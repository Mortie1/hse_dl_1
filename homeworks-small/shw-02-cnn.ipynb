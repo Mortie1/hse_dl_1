{
 "cells": [
  {
   "cell_type": "markdown",
   "metadata": {
    "id": "w35Q6hOIy4sk",
    "pycharm": {
     "name": "#%% md\n"
    }
   },
   "source": [
    "# Глубинное обучение 1 / Введение в глубинное обучение, ФКН ВШЭ\n",
    "\n",
    "## Домашнее задание 2: сверточный классификатор.\n",
    "\n",
    "### Общая информация\n",
    "\n",
    "Оценка после штрафа после мягкого дедлайна вычисляется по формуле $M_{\\text{penalty}} = M_{\\text{full}} \\cdot 0.85^{t/1440}$, где $M_{\\text{full}}$ — полная оценка за работу без учета штрафа, а $t$ — время в минутах, прошедшее после мягкого дедлайна (округление до двух цифр после запятой). Таким образом, спустя первые сутки после мягкого дедлайна вы не можете получить оценку выше 8.5, а если сдать через четыре дня после мягкого дедлайна, то ваш максимум — 5.22 балла.\n",
    "\n",
    "### Оценивание и штрафы\n",
    "\n",
    "Максимально допустимая оценка за работу — 10 баллов. Сдавать задание после указанного срока сдачи нельзя.\n",
    "\n",
    "Задание выполняется самостоятельно. «Похожие» решения считаются плагиатом и все задействованные студенты (в том числе те, у кого списали) не могут получить за него больше 0 баллов. Если вы нашли решение какого-то из заданий (или его часть) в открытом источнике, необходимо указать ссылку на этот источник в отдельном блоке в конце вашей работы (скорее всего вы будете не единственным, кто это нашел, поэтому чтобы исключить подозрение в плагиате, необходима ссылка на источник).\n",
    "\n",
    "Неэффективная реализация кода может негативно отразиться на оценке. Также оценка может быть снижена за плохо читаемый код и плохо оформленные графики. Все ответы должны сопровождаться кодом или комментариями о том, как они были получены.\n",
    "\n",
    "### О задании\n",
    "\n",
    "В этом задании вам предстоит познакомиться со сверточными сетями и их обучением для классификации изображений с использованием библиотеки PyTorch.\n"
   ]
  },
  {
   "cell_type": "code",
   "execution_count": 1,
   "metadata": {
    "id": "SaACifdX2QOo",
    "pycharm": {
     "name": "#%%\n"
    }
   },
   "outputs": [],
   "source": [
    "import torch\n",
    "import torch.nn as nn\n",
    "import torch.nn.functional as F\n",
    "import torch.optim as optim\n",
    "import torchvision\n",
    "import torchvision.transforms as transforms\n",
    "\n",
    "import matplotlib.pyplot as plt\n",
    "import numpy as np\n",
    "\n",
    "from sklearn.model_selection import train_test_split"
   ]
  },
  {
   "cell_type": "markdown",
   "metadata": {
    "id": "TIXaUYM-0JFl",
    "pycharm": {
     "name": "#%% md\n"
    }
   },
   "source": [
    "## 0. Загрузка данных\n",
    "\n",
    "Работать мы будем с набором данных [CIFAR10](https://www.cs.toronto.edu/~kriz/cifar.html). CIFAR10 представляет собой набор изображений 32х32 пикселя, разделенных на 10 классов.\n",
    "\n",
    "![title](https://pytorch.org/tutorials/_images/cifar10.png)\n",
    "\n",
    "\n"
   ]
  },
  {
   "cell_type": "markdown",
   "metadata": {
    "id": "g-0EEjl_10vB",
    "pycharm": {
     "name": "#%% md\n"
    }
   },
   "source": [
    "Набор данных уже определен в <code>torchvision.datasets</code>, так что возьмем его оттуда. \n",
    "\n"
   ]
  },
  {
   "cell_type": "code",
   "execution_count": 2,
   "metadata": {
    "id": "Cbwe92dT3aPZ",
    "pycharm": {
     "name": "#%%\n"
    }
   },
   "outputs": [],
   "source": [
    "def get_cifar10_data(batch_size, transform_train):\n",
    "    torch.manual_seed(0)\n",
    "    np.random.seed(0)\n",
    "\n",
    "    transform_test = transforms.Compose(\n",
    "        [transforms.ToTensor(),\n",
    "         # Переводим цвета пикселей в отрезок [-1, 1]\n",
    "         transforms.Normalize((0.5, 0.5, 0.5), (0.5, 0.5, 0.5))]\n",
    "    )\n",
    "    \n",
    "    # Загружаем данные\n",
    "    trainvalset = torchvision.datasets.CIFAR10(root='./data', train=True,\n",
    "                                               download=True, transform=transform_train)\n",
    "    testset = torchvision.datasets.CIFAR10(root='./data', train=False,\n",
    "                                           download=True, transform=transform_test)\n",
    "    \n",
    "    # В датасете определено разбиение только на train и test,\n",
    "    # так что валидацию дополнительно выделяем из обучающей выборки\n",
    "    train_idx, valid_idx = train_test_split(np.arange(len(trainvalset)), test_size=0.3, \n",
    "                                            shuffle=True, random_state=0)\n",
    "    trainset = torch.utils.data.Subset(trainvalset, train_idx)\n",
    "    valset = torch.utils.data.Subset(trainvalset, valid_idx)\n",
    "\n",
    "    train_loader = torch.utils.data.DataLoader(trainset, batch_size=batch_size,\n",
    "                                               shuffle=True, num_workers=2)\n",
    "    val_loader = torch.utils.data.DataLoader(valset, batch_size=batch_size,\n",
    "                                             shuffle=False, num_workers=2)\n",
    "    test_loader = torch.utils.data.DataLoader(testset, batch_size=batch_size,\n",
    "                                              shuffle=False, num_workers=2)\n",
    "    \n",
    "    return train_loader, val_loader, test_loader\n",
    "    "
   ]
  },
  {
   "cell_type": "code",
   "execution_count": 3,
   "metadata": {
    "colab": {
     "base_uri": "https://localhost:8080/",
     "height": 101,
     "referenced_widgets": [
      "aa9da821ba0c42b5b051355e50e691f0",
      "95c5696493db48738dbdc9940acec1d8",
      "fe515a1f743f49d0b251b43919d52a8e",
      "f4f339c969fd4e21bc683ecb2567897b",
      "17b2be81159e41f1a5c6bb966516572e",
      "22bb21a6c57a413fb7374efe31349e6e",
      "18b20091dbf64b129824a8fb3266e3c0",
      "9bad0d6a00c14229b0d776a2cfe15090",
      "0fee9f5b7bdb4129a71ef0cfe9d3b1fa",
      "cd991379661b4b4ab405bf66f75c6834",
      "7d238166caf64537ad9aa2040dcdc1ec"
     ]
    },
    "id": "2G2rLnN5y6Jj",
    "outputId": "542c91e6-44f6-4e26-f1e8-5df3b83fd044",
    "pycharm": {
     "name": "#%%\n"
    }
   },
   "outputs": [
    {
     "name": "stdout",
     "output_type": "stream",
     "text": [
      "Files already downloaded and verified\n",
      "Files already downloaded and verified\n"
     ]
    }
   ],
   "source": [
    "transform = transforms.Compose(\n",
    "        [transforms.ToTensor(),\n",
    "         transforms.Normalize((0.5, 0.5, 0.5), (0.5, 0.5, 0.5))]\n",
    ")\n",
    "\n",
    "train_loader, val_loader, test_loader = get_cifar10_data(batch_size=64, \n",
    "                                                         transform_train=transform)"
   ]
  },
  {
   "cell_type": "markdown",
   "metadata": {
    "id": "-82HWgXs77W1",
    "pycharm": {
     "name": "#%% md\n"
    }
   },
   "source": [
    "Посмотрим на изображения:"
   ]
  },
  {
   "cell_type": "code",
   "execution_count": 4,
   "metadata": {
    "colab": {
     "base_uri": "https://localhost:8080/",
     "height": 155
    },
    "id": "ACnwaC5iy6L2",
    "outputId": "fd2fc631-ea7b-45f2-9728-eb1c5f9e683c",
    "pycharm": {
     "name": "#%%\n"
    }
   },
   "outputs": [
    {
     "data": {
      "image/png": "[encoded data removed]",
      "text/plain": [
       "<Figure size 640x480 with 1 Axes>"
      ]
     },
     "metadata": {},
     "output_type": "display_data"
    },
    {
     "name": "stdout",
     "output_type": "stream",
     "text": [
      "ship frog horse horse\n"
     ]
    }
   ],
   "source": [
    "def imshow(img):\n",
    "    img = img / 2 + 0.5\n",
    "    npimg = img.numpy()\n",
    "    plt.imshow(np.transpose(npimg, (1, 2, 0)))\n",
    "    plt.show()\n",
    "\n",
    "\n",
    "dataiter = iter(train_loader)\n",
    "images, labels = next(dataiter)\n",
    "\n",
    "imshow(torchvision.utils.make_grid(images[:4]))\n",
    "\n",
    "classes = (\n",
    "    \"plane\",\n",
    "    \"car\",\n",
    "    \"bird\",\n",
    "    \"cat\",\n",
    "    \"deer\",\n",
    "    \"dog\",\n",
    "    \"frog\",\n",
    "    \"horse\",\n",
    "    \"ship\",\n",
    "    \"truck\",\n",
    ")\n",
    "print(*[classes[labels[i]] for i in range(4)])"
   ]
  },
  {
   "cell_type": "markdown",
   "metadata": {
    "id": "KFDilng29YZ_",
    "pycharm": {
     "name": "#%% md\n"
    }
   },
   "source": [
    "## 1. Задание сверточной сети (3 балла)"
   ]
  },
  {
   "cell_type": "markdown",
   "metadata": {
    "id": "OX7Ul8YbYdQR",
    "pycharm": {
     "name": "#%% md\n"
    }
   },
   "source": [
    "Теперь нам нужно задать сверточную нейронную сеть, которую мы будем обучать классифицировать изображения.\n",
    "\n",
    "Используем сеть, основанную на одном блоке архитектуры ResNet.\n",
    "\n",
    "<img src=\"https://i.ibb.co/2hg962h/basic-block.png\" width=\"500\"/>\n",
    "\n",
    "__Указания:__\n",
    "\n",
    "- Все сверточные слои должны иметь 32 выходных канала, а также не должны изменять ширину и высоту изображения.\n",
    "- Выход блока сократите до размерности 32х4х4, применив average pooling.\n",
    "- Для получения итоговых логитов, распрямите выход пулинга в вектор из 512 элементов, а затем пропустите его через линейный слой."
   ]
  },
  {
   "cell_type": "markdown",
   "metadata": {
    "id": "sbyIylT9O9Dr",
    "pycharm": {
     "name": "#%% md\n"
    }
   },
   "source": [
    "**Задание 1.1 (3 балла).**\n",
    "\n",
    "Определите архитектуру сети соответственно схеме и указаниям выше.\n",
    "\n",
    "Ключевые слова: <code>Conv2d</code>, <code>BatchNorm2d</code>, <code>AvgPool2d</code>."
   ]
  },
  {
   "cell_type": "code",
   "execution_count": 5,
   "metadata": {
    "id": "s9ml1QGKy6N9",
    "pycharm": {
     "name": "#%%\n"
    }
   },
   "outputs": [],
   "source": [
    "from torch.nn.modules.activation import ReLU\n",
    "\n",
    "n_classes = 10\n",
    "\n",
    "\n",
    "class BasicBlockNet(nn.Module):\n",
    "    def __init__(self):\n",
    "        super().__init__()\n",
    "\n",
    "        self.block1 = nn.Sequential(\n",
    "            nn.Conv2d(in_channels=3, out_channels=32, kernel_size=3, padding=1),\n",
    "            nn.BatchNorm2d(32),\n",
    "            nn.ReLU(),\n",
    "            nn.Conv2d(in_channels=32, out_channels=32, kernel_size=3, padding=1),\n",
    "            nn.BatchNorm2d(32),\n",
    "        )\n",
    "\n",
    "        self.conv = nn.Conv2d(in_channels=3, out_channels=32, kernel_size=1)\n",
    "\n",
    "        self.block2 = nn.Sequential(nn.ReLU(), nn.AvgPool2d(kernel_size=8))\n",
    "\n",
    "        self.linear = nn.Linear(in_features=512, out_features=n_classes)\n",
    "\n",
    "    def forward(self, x):\n",
    "        flatten_input = self.block2(self.block1(x) + self.conv(x))\n",
    "\n",
    "        flattened = torch.flatten(flatten_input, start_dim=1)\n",
    "\n",
    "        out = self.linear(flattened)\n",
    "\n",
    "        return out"
   ]
  },
  {
   "cell_type": "code",
   "execution_count": 6,
   "metadata": {
    "id": "FI4BQg7Ky6Pw",
    "pycharm": {
     "name": "#%%\n"
    }
   },
   "outputs": [
    {
     "data": {
      "text/plain": [
       "BasicBlockNet(\n",
       "  (block1): Sequential(\n",
       "    (0): Conv2d(3, 32, kernel_size=(3, 3), stride=(1, 1), padding=(1, 1))\n",
       "    (1): BatchNorm2d(32, eps=1e-05, momentum=0.1, affine=True, track_running_stats=True)\n",
       "    (2): ReLU()\n",
       "    (3): Conv2d(32, 32, kernel_size=(3, 3), stride=(1, 1), padding=(1, 1))\n",
       "    (4): BatchNorm2d(32, eps=1e-05, momentum=0.1, affine=True, track_running_stats=True)\n",
       "  )\n",
       "  (conv): Conv2d(3, 32, kernel_size=(1, 1), stride=(1, 1))\n",
       "  (block2): Sequential(\n",
       "    (0): ReLU()\n",
       "    (1): AvgPool2d(kernel_size=8, stride=8, padding=0)\n",
       "  )\n",
       "  (linear): Linear(in_features=512, out_features=10, bias=True)\n",
       ")"
      ]
     },
     "execution_count": 6,
     "metadata": {},
     "output_type": "execute_result"
    }
   ],
   "source": [
    "net = BasicBlockNet()\n",
    "net"
   ]
  },
  {
   "cell_type": "markdown",
   "metadata": {
    "id": "igPoGZEub8d3",
    "pycharm": {
     "name": "#%% md\n"
    }
   },
   "source": [
    "Проверим, что выход сети имеет корректную размерность:"
   ]
  },
  {
   "cell_type": "code",
   "execution_count": 7,
   "metadata": {
    "id": "cCIzFUpJ_Agw",
    "pycharm": {
     "name": "#%%\n"
    }
   },
   "outputs": [],
   "source": [
    "assert net(torch.zeros((10, 3, 32, 32))).shape == (10, 10)"
   ]
  },
  {
   "cell_type": "markdown",
   "metadata": {
    "id": "08osX622cDGz",
    "pycharm": {
     "name": "#%% md\n"
    }
   },
   "source": [
    "Чтобы проводить вычисления на GPU, в PyTorch необходимо руками перекладывать объекты, с которыми вы хотите проводить вычисления, на графический ускоритель. Это делается следующим образрм:"
   ]
  },
  {
   "cell_type": "code",
   "execution_count": 8,
   "metadata": {
    "id": "56hDOMCFcDZX",
    "pycharm": {
     "name": "#%%\n"
    }
   },
   "outputs": [
    {
     "name": "stdout",
     "output_type": "stream",
     "text": [
      "cuda:0\n"
     ]
    }
   ],
   "source": [
    "device = torch.device('cuda:0' if torch.cuda.is_available() else 'cpu')\n",
    "print(device)"
   ]
  },
  {
   "cell_type": "code",
   "execution_count": 9,
   "metadata": {
    "id": "ohnDWbp0qbtC",
    "pycharm": {
     "name": "#%%\n"
    }
   },
   "outputs": [],
   "source": [
    "net = net.to(device)"
   ]
  },
  {
   "cell_type": "markdown",
   "metadata": {
    "id": "H_bOlTVUp5QF",
    "pycharm": {
     "name": "#%% md\n"
    }
   },
   "source": [
    "Подключение GPU в google.colab:\n",
    "\n",
    "**Среда выполнения** -> **Сменить среду выполнения** -> **Аппаратный ускоритель** -> **GPU**"
   ]
  },
  {
   "cell_type": "markdown",
   "metadata": {
    "id": "AGi6XX_7_Bgg",
    "pycharm": {
     "name": "#%% md\n"
    }
   },
   "source": [
    "## 2. Обучение и тестирование модели (3 балла)"
   ]
  },
  {
   "cell_type": "markdown",
   "metadata": {
    "id": "0agj_MQoO9Ds",
    "pycharm": {
     "name": "#%% md\n"
    }
   },
   "source": [
    "**Задание 2.1 (2 балла).** Переходим к обучению модели. Заполните пропуски в функциях <code>test</code> и <code>train_epoch</code>. В качестве функции потерь будем использовать [кросс-энтропию](https://pytorch.org/docs/stable/generated/torch.nn.functional.cross_entropy.html), а в качестве метрики качества accuracy."
   ]
  },
  {
   "cell_type": "code",
   "execution_count": 10,
   "metadata": {
    "id": "g8gsPPRIevDS",
    "pycharm": {
     "name": "#%%\n"
    }
   },
   "outputs": [],
   "source": [
    "from torch.nn.functional import cross_entropy\n",
    "\n",
    "\n",
    "def test(model, loader):\n",
    "    loss_log = []\n",
    "    acc_log = []\n",
    "    model.eval()\n",
    "\n",
    "    for data, target in loader:\n",
    "        data = data.to(device)\n",
    "        target = target.to(device)\n",
    "\n",
    "        predictions = model(data)\n",
    "        loss = cross_entropy(predictions, target)\n",
    "\n",
    "        loss_log.append(loss.item())\n",
    "\n",
    "        predicted_classes = torch.argmax(predictions, 1)\n",
    "        acc = torch.sum(predicted_classes == target) / target.size(dim=0)\n",
    "\n",
    "        acc_log.append(acc.item())\n",
    "\n",
    "    return np.mean(loss_log), np.mean(acc_log)\n",
    "\n",
    "\n",
    "def train_epoch(model, optimizer, train_loader):\n",
    "    loss_log = []\n",
    "    acc_log = []\n",
    "    model.train()\n",
    "\n",
    "    for data, target in train_loader:\n",
    "        data = data.to(device)\n",
    "        target = target.to(device)\n",
    "\n",
    "        optimizer.zero_grad()\n",
    "        predictions = model(data)\n",
    "        loss = cross_entropy(predictions, target)\n",
    "\n",
    "        loss_log.append(loss.item())\n",
    "\n",
    "        loss.backward()\n",
    "        optimizer.step()\n",
    "\n",
    "        predicted_classes = torch.argmax(predictions, 1)\n",
    "        acc = torch.sum(predicted_classes == target) / target.size(dim=0)\n",
    "        acc_log.append(acc.item())\n",
    "\n",
    "    return loss_log, acc_log\n",
    "\n",
    "\n",
    "def train(model, optimizer, n_epochs, train_loader, val_loader, scheduler=None):\n",
    "    train_loss_log, train_acc_log, val_loss_log, val_acc_log = [], [], [], []\n",
    "\n",
    "    for epoch in range(n_epochs):\n",
    "        train_loss, train_acc = train_epoch(model, optimizer, train_loader)\n",
    "        val_loss, val_acc = test(model, val_loader)\n",
    "\n",
    "        train_loss_log.extend(train_loss)\n",
    "        train_acc_log.extend(train_acc)\n",
    "\n",
    "        val_loss_log.append(val_loss)\n",
    "        val_acc_log.append(val_acc)\n",
    "\n",
    "        print(f\"Epoch {epoch}\")\n",
    "        print(f\" train loss: {np.mean(train_loss)}, train acc: {np.mean(train_acc)}\")\n",
    "        print(f\" val loss: {val_loss}, val acc: {val_acc}\\n\")\n",
    "\n",
    "        if scheduler is not None:\n",
    "            scheduler.step()\n",
    "\n",
    "    return train_loss_log, train_acc_log, val_loss_log, val_acc_log"
   ]
  },
  {
   "cell_type": "markdown",
   "metadata": {
    "id": "iSOqk_CAO9Dt",
    "pycharm": {
     "name": "#%% md\n"
    }
   },
   "source": [
    "Запустим обучение модели. В качестве оптимизатора будем использовать стохастический градиентный спуск, который является де-факто стандартом в задачах компьютерного зрения (наравне с <code>Adam</code>).\n",
    "\n",
    "__Замечание:__ Для достижения наилучшего качества в нашем случае потребуется обучать модель несколько сотен эпох. Однако в целях экономии вашего времени и сил, во всех экспериментах мы ограничимся 20 эпохами."
   ]
  },
  {
   "cell_type": "code",
   "execution_count": 11,
   "metadata": {
    "id": "MKZBGhuAgMDu",
    "pycharm": {
     "name": "#%%\n"
    },
    "scrolled": true
   },
   "outputs": [
    {
     "name": "stdout",
     "output_type": "stream",
     "text": [
      "Epoch 0\n",
      " train loss: 1.464754533070315, train acc: 0.47817233613465776\n",
      " val loss: 1.2005993642705552, val acc: 0.5722960994598714\n",
      "\n",
      "Epoch 1\n",
      " train loss: 1.1631658207999722, train acc: 0.5935990141340322\n",
      " val loss: 1.155336849993848, val acc: 0.5975398936170213\n",
      "\n",
      "Epoch 2\n",
      " train loss: 1.0448934043565223, train acc: 0.6371523244289419\n",
      " val loss: 1.0862762441026403, val acc: 0.625\n",
      "\n",
      "Epoch 3\n",
      " train loss: 0.9875145814972343, train acc: 0.6576864064502542\n",
      " val loss: 1.0678648535241473, val acc: 0.6341976952045522\n",
      "\n",
      "Epoch 4\n",
      " train loss: 0.9548641253650951, train acc: 0.6703692218067441\n",
      " val loss: 0.976625239341817, val acc: 0.662344858240574\n",
      "\n",
      "Epoch 5\n",
      " train loss: 0.9278298488918563, train acc: 0.6767432750687956\n",
      " val loss: 0.9379483575516558, val acc: 0.6782358156873824\n",
      "\n",
      "Epoch 6\n",
      " train loss: 0.9005023248670742, train acc: 0.6876346631285477\n",
      " val loss: 1.0438070781687472, val acc: 0.6457225178150421\n",
      "\n",
      "Epoch 7\n",
      " train loss: 0.882680762348053, train acc: 0.6944167864605975\n",
      " val loss: 0.9483075867307947, val acc: 0.6781693263256804\n",
      "\n",
      "Epoch 8\n",
      " train loss: 0.8690272861686441, train acc: 0.6987341669621372\n",
      " val loss: 0.9312040275715767, val acc: 0.6775265957446809\n",
      "\n",
      "Epoch 9\n",
      " train loss: 0.8535770439360651, train acc: 0.7041614978579324\n",
      " val loss: 0.9371086272787541, val acc: 0.6782358156873824\n",
      "\n",
      "Epoch 10\n",
      " train loss: 0.842404142430757, train acc: 0.7077729172418933\n",
      " val loss: 0.9239127907347172, val acc: 0.6841755319148937\n",
      "\n",
      "Epoch 11\n",
      " train loss: 0.8324953703928255, train acc: 0.7107640703155964\n",
      " val loss: 0.8922911222944868, val acc: 0.6934397163543295\n",
      "\n",
      "Epoch 12\n",
      " train loss: 0.8145257898723839, train acc: 0.7188928244972578\n",
      " val loss: 0.8807204837494708, val acc: 0.7003546100981692\n",
      "\n",
      "Epoch 13\n",
      " train loss: 0.8091061364798049, train acc: 0.720076227536803\n",
      " val loss: 0.9256119758524793, val acc: 0.6824024824385947\n",
      "\n",
      "Epoch 14\n",
      " train loss: 0.7995274138842902, train acc: 0.7232020436300874\n",
      " val loss: 0.8894826168709613, val acc: 0.7002437944107868\n",
      "\n",
      "Epoch 15\n",
      " train loss: 0.7902777500082849, train acc: 0.726462522960886\n",
      " val loss: 0.8717931049935361, val acc: 0.7030363476022761\n",
      "\n",
      "Epoch 16\n",
      " train loss: 0.7864021053588804, train acc: 0.7258830634941784\n",
      " val loss: 0.87193412679307, val acc: 0.7052748228641267\n",
      "\n",
      "Epoch 17\n",
      " train loss: 0.771278721322961, train acc: 0.7319306608091979\n",
      " val loss: 0.9310690248266179, val acc: 0.6870789007937654\n",
      "\n",
      "Epoch 18\n",
      " train loss: 0.7646169652668606, train acc: 0.7342974667793218\n",
      " val loss: 0.9047997718161725, val acc: 0.6954343973322118\n",
      "\n",
      "Epoch 19\n",
      " train loss: 0.7585384039381958, train acc: 0.7360440063302216\n",
      " val loss: 0.8956573975847123, val acc: 0.6946808510638298\n",
      "\n"
     ]
    }
   ],
   "source": [
    "optimizer = optim.SGD(net.parameters(), lr=0.1, momentum=0.9)\n",
    "train_loss_log, train_acc_log, val_loss_log, val_acc_log = train(net, optimizer, 20, train_loader, val_loader)"
   ]
  },
  {
   "cell_type": "markdown",
   "metadata": {
    "id": "gUb1jQW8O9Dt",
    "pycharm": {
     "name": "#%% md\n"
    }
   },
   "source": [
    "Посчитайте точность на тестовой выборке:"
   ]
  },
  {
   "cell_type": "code",
   "execution_count": 12,
   "metadata": {
    "id": "Jyuc55B9_Amc",
    "pycharm": {
     "name": "#%%\n"
    }
   },
   "outputs": [
    {
     "name": "stdout",
     "output_type": "stream",
     "text": [
      "test_loss: 0.9186657674752983\n",
      "test_acc: 0.6850119426751592\n"
     ]
    }
   ],
   "source": [
    "test_loss, test_acc = test(net, test_loader)\n",
    "print(f\"test_loss: {test_loss}\")\n",
    "print(f\"test_acc: {test_acc}\")"
   ]
  },
  {
   "cell_type": "markdown",
   "metadata": {
    "id": "zM38Q9fwO9Dt",
    "pycharm": {
     "name": "#%% md\n"
    }
   },
   "source": [
    "Если вы все сделали правильно, у вас должна была получиться точность $\\ge 67\\%$."
   ]
  },
  {
   "cell_type": "markdown",
   "metadata": {
    "id": "DHFNSKcoO9Dt",
    "pycharm": {
     "name": "#%% md\n"
    }
   },
   "source": [
    "**Задание 2.2 (1 балл).** Постройте графики зависимости функции потерь и точности классификации от номера шага оптимизатора. На каждом графике расположите данные и для обучающей и для валидационной выборки, итого у вас должно получиться два графика. Обратите внимание, что на обучающей выборке эти данные считаются по каждому батчу, на валидационной же они считаются по всей выборке раз в эпоху."
   ]
  },
  {
   "cell_type": "code",
   "execution_count": 13,
   "metadata": {
    "id": "LzIP0tGLO9Dt",
    "pycharm": {
     "name": "#%%\n"
    }
   },
   "outputs": [],
   "source": [
    "import seaborn as sns\n",
    "\n",
    "batch_size = 64\n",
    "sns.set(rc={\"figure.figsize\": (11.7, 8.27)})"
   ]
  },
  {
   "cell_type": "code",
   "execution_count": 14,
   "metadata": {},
   "outputs": [],
   "source": [
    "def plot_metrics(metric_train, metric_val, name=\"loss\"):\n",
    "    norm_metric_val = {}\n",
    "\n",
    "    batch_num = len(metric_train) // len(metric_val)\n",
    "\n",
    "    for i in range(len(metric_val)):\n",
    "        norm_metric_val[i * batch_num] = metric_val[i]\n",
    "    data = {\"train\": metric_train, \"val\": norm_metric_val}\n",
    "    ax = sns.relplot(data=data, kind=\"line\")\n",
    "    ax.set(xlabel=\"step\", ylabel=name)\n",
    "    plt.show()"
   ]
  },
  {
   "cell_type": "code",
   "execution_count": 15,
   "metadata": {},
   "outputs": [
    {
     "name": "stderr",
     "output_type": "stream",
     "text": [
      "c:\\Python310\\lib\\site-packages\\seaborn\\axisgrid.py:123: UserWarning: The figure layout has changed to tight\n",
      "  self._figure.tight_layout(*args, **kwargs)\n"
     ]
    },
    {
     "data": {
      "image/png": "[encoded data removed]",
      "text/plain": [
       "<Figure size 584.625x500 with 1 Axes>"
      ]
     },
     "metadata": {},
     "output_type": "display_data"
    }
   ],
   "source": [
    "# plot for loss\n",
    "\n",
    "plot_metrics(train_loss_log, val_loss_log, name=\"loss\")"
   ]
  },
  {
   "cell_type": "code",
   "execution_count": 16,
   "metadata": {},
   "outputs": [
    {
     "name": "stderr",
     "output_type": "stream",
     "text": [
      "c:\\Python310\\lib\\site-packages\\seaborn\\axisgrid.py:123: UserWarning: The figure layout has changed to tight\n",
      "  self._figure.tight_layout(*args, **kwargs)\n"
     ]
    },
    {
     "data": {
      "image/png": "[encoded data removed]",
      "text/plain": [
       "<Figure size 584.625x500 with 1 Axes>"
      ]
     },
     "metadata": {},
     "output_type": "display_data"
    }
   ],
   "source": [
    "# plot for accuracy\n",
    "\n",
    "plot_metrics(train_acc_log, val_acc_log, name=\"accuracy\")"
   ]
  },
  {
   "cell_type": "markdown",
   "metadata": {
    "id": "_ttOJPj-O9Dt",
    "pycharm": {
     "name": "#%% md\n"
    }
   },
   "source": [
    "## 3. Расписание длины шага (2 балла)"
   ]
  },
  {
   "cell_type": "markdown",
   "metadata": {
    "id": "qiz3JstuO9Dt",
    "pycharm": {
     "name": "#%% md\n"
    }
   },
   "source": [
    "С курса \"Машинное обучение 1\" вы уже должны знать, что сходимость стохастического градиентного спуска мы можем теоретически гарантировать только если будем определенным образом со временем уменьшать длину шага. На практике при обучении нейронных сетей такая техника оказывается очень полезной, однако теоретически обоснованными способами уменьшения длины шага фантазия не ограничивается.\n",
    "\n",
    "Одним из простейших способов является кусочно постоянная функция: на нескольких фиксированных эпохах уменьшаем длину шага в константу раз."
   ]
  },
  {
   "cell_type": "code",
   "execution_count": 17,
   "metadata": {
    "id": "V2Z0OT3nO9Du",
    "pycharm": {
     "name": "#%%\n"
    }
   },
   "outputs": [
    {
     "name": "stdout",
     "output_type": "stream",
     "text": [
      "Epoch 0\n",
      " train loss: 1.4669017451772741, train acc: 0.47851103424372143\n",
      " val loss: 1.2513278705008486, val acc: 0.5660904255319149\n",
      "\n",
      "Epoch 1\n",
      " train loss: 1.148462332471851, train acc: 0.5965534409395737\n",
      " val loss: 1.1480331722726214, val acc: 0.6013962765957447\n",
      "\n",
      "Epoch 2\n",
      " train loss: 1.0503045976488856, train acc: 0.6340632346038191\n",
      " val loss: 1.1953364757781333, val acc: 0.5866356382978724\n",
      "\n",
      "Epoch 3\n",
      " train loss: 0.9899041916378237, train acc: 0.6526508226691042\n",
      " val loss: 0.9895485040989328, val acc: 0.6577570922831272\n",
      "\n",
      "Epoch 4\n",
      " train loss: 0.9542735307264589, train acc: 0.666863900542913\n",
      " val loss: 1.0247674444888502, val acc: 0.6433289007937655\n",
      "\n",
      "Epoch 5\n",
      " train loss: 0.9232475703115655, train acc: 0.6797058632430473\n",
      " val loss: 0.9647437894597967, val acc: 0.6671320922831272\n",
      "\n",
      "Epoch 6\n",
      " train loss: 0.9018657902694925, train acc: 0.6855983938987774\n",
      " val loss: 0.9362212789819596, val acc: 0.678036347602276\n",
      "\n",
      "Epoch 7\n",
      " train loss: 0.8872793933591198, train acc: 0.6904381039591551\n",
      " val loss: 0.9048129789372708, val acc: 0.6895168441407225\n",
      "\n",
      "Epoch 8\n",
      " train loss: 0.8648729578777467, train acc: 0.7002807522168761\n",
      " val loss: 0.9317203625719598, val acc: 0.6794547872340425\n",
      "\n",
      "Epoch 9\n",
      " train loss: 0.8521856662887106, train acc: 0.7042879995088037\n",
      " val loss: 0.8824667093601632, val acc: 0.6974290781832756\n",
      "\n",
      "Epoch 10\n",
      " train loss: 0.7464270902290204, train acc: 0.7411326391169533\n",
      " val loss: 0.8369172020161405, val acc: 0.7141622340425532\n",
      "\n",
      "Epoch 11\n",
      " train loss: 0.7296416344328815, train acc: 0.7472740924990373\n",
      " val loss: 0.8296302995783218, val acc: 0.7169769505237011\n",
      "\n",
      "Epoch 12\n",
      " train loss: 0.7249078383393436, train acc: 0.7502489227263539\n",
      " val loss: 0.8284860041547328, val acc: 0.71538120584285\n",
      "\n",
      "Epoch 13\n",
      " train loss: 0.7207573809179135, train acc: 0.7508324628774166\n",
      " val loss: 0.8305380740064255, val acc: 0.71538120584285\n",
      "\n",
      "Epoch 14\n",
      " train loss: 0.716321133118007, train acc: 0.7517955079810928\n",
      " val loss: 0.8230993699520193, val acc: 0.720035461161999\n",
      "\n",
      "Epoch 15\n",
      " train loss: 0.7022657315408508, train acc: 0.7583450314331752\n",
      " val loss: 0.8193779719636796, val acc: 0.7203457446808511\n",
      "\n",
      "Epoch 16\n",
      " train loss: 0.700408094434895, train acc: 0.7585490664136911\n",
      " val loss: 0.8178968257092415, val acc: 0.7202127659574468\n",
      "\n",
      "Epoch 17\n",
      " train loss: 0.698654594488946, train acc: 0.7588102311931101\n",
      " val loss: 0.8180029510183537, val acc: 0.7207446808510638\n",
      "\n",
      "Epoch 18\n",
      " train loss: 0.6991904276053692, train acc: 0.7590958801876256\n",
      " val loss: 0.8194518897127598, val acc: 0.720811170212766\n",
      "\n",
      "Epoch 19\n",
      " train loss: 0.6979076234688488, train acc: 0.7594345782966893\n",
      " val loss: 0.8182400702161992, val acc: 0.721343085106383\n",
      "\n"
     ]
    }
   ],
   "source": [
    "net = BasicBlockNet().to(device)\n",
    "optimizer = optim.SGD(net.parameters(), lr=0.1, momentum=0.9)\n",
    "scheduler = optim.lr_scheduler.MultiStepLR(optimizer, milestones=[10, 15], gamma=0.1)\n",
    "tr_loss_log, tr_acc_log, val_loss_log, val_acc_log = train(net, optimizer, 20, train_loader, val_loader, scheduler)"
   ]
  },
  {
   "cell_type": "markdown",
   "metadata": {
    "id": "5Xc76KvzO9Du",
    "pycharm": {
     "name": "#%% md\n"
    }
   },
   "source": [
    "Посчитайте точность на тестовой выборке:"
   ]
  },
  {
   "cell_type": "code",
   "execution_count": 18,
   "metadata": {
    "id": "1AjiYhKqO9Du",
    "pycharm": {
     "name": "#%%\n"
    }
   },
   "outputs": [
    {
     "name": "stdout",
     "output_type": "stream",
     "text": [
      "test_loss: 0.8335262068138001\n",
      "test_acc: 0.7154657643312102\n"
     ]
    }
   ],
   "source": [
    "test_loss, test_acc = test(net, test_loader)\n",
    "print(f\"test_loss: {test_loss}\")\n",
    "print(f\"test_acc: {test_acc}\")"
   ]
  },
  {
   "cell_type": "markdown",
   "metadata": {
    "id": "yE0dgLYrO9Du",
    "pycharm": {
     "name": "#%% md\n"
    }
   },
   "source": [
    "**Задание 3.0 (0.5 баллов).** Здесь может возникнуть вопрос: а что будет, если мы не будем уменьшать длину шага в процессе обучения, а сразу возьмем констатную, равную значению нашей кусочно-постоянной функции на последних эпохах, то есть $0.001$ в нашем случае. Запустите обучение и проверьте, что в таком случае мы получим худшее качество на тестовой выборке."
   ]
  },
  {
   "cell_type": "code",
   "execution_count": 19,
   "metadata": {
    "id": "qZ2iB-LBO9Du",
    "pycharm": {
     "name": "#%%\n"
    }
   },
   "outputs": [
    {
     "name": "stdout",
     "output_type": "stream",
     "text": [
      "Epoch 0\n",
      " train loss: 1.8587612253656336, train acc: 0.34674931444241314\n",
      " val loss: 1.638545586707744, val acc: 0.4319148936170213\n",
      "\n",
      "Epoch 1\n",
      " train loss: 1.572611794175352, train acc: 0.44760789372149506\n",
      " val loss: 1.4885583106507647, val acc: 0.47814716316284017\n",
      "\n",
      "Epoch 2\n",
      " train loss: 1.4449438107297015, train acc: 0.4922956386257569\n",
      " val loss: 1.4074445886814848, val acc: 0.5052969859001485\n",
      "\n",
      "Epoch 3\n",
      " train loss: 1.3607519464039497, train acc: 0.5227172565416619\n",
      " val loss: 1.314440577588183, val acc: 0.5402703901554676\n",
      "\n",
      "Epoch 4\n",
      " train loss: 1.2996346888420134, train acc: 0.5455120463040019\n",
      " val loss: 1.2576206706939859, val acc: 0.5646498227373082\n",
      "\n",
      "Epoch 5\n",
      " train loss: 1.2456575869642184, train acc: 0.563560982073029\n",
      " val loss: 1.215270456101032, val acc: 0.5781028369639782\n",
      "\n",
      "Epoch 6\n",
      " train loss: 1.2046850644038407, train acc: 0.5812997846324439\n",
      " val loss: 1.20262293561976, val acc: 0.5804964539852548\n",
      "\n",
      "Epoch 7\n",
      " train loss: 1.160324628326967, train acc: 0.5960147885343492\n",
      " val loss: 1.1609417900126031, val acc: 0.5912677305809995\n",
      "\n",
      "Epoch 8\n",
      " train loss: 1.125512704661821, train acc: 0.6108685362491573\n",
      " val loss: 1.1191235182133126, val acc: 0.6106604610351806\n",
      "\n",
      "Epoch 9\n",
      " train loss: 1.0902817541328165, train acc: 0.6217231980407478\n",
      " val loss: 1.071308455315042, val acc: 0.6232491135597229\n",
      "\n",
      "Epoch 10\n",
      " train loss: 1.0650162870095023, train acc: 0.6313862954240831\n",
      " val loss: 1.0568654387555223, val acc: 0.6302526595744681\n",
      "\n",
      "Epoch 11\n",
      " train loss: 1.0380824584193813, train acc: 0.6363239423448468\n",
      " val loss: 1.038708478339175, val acc: 0.6354166667512122\n",
      "\n",
      "Epoch 12\n",
      " train loss: 1.0211760330897581, train acc: 0.6460400888427302\n",
      " val loss: 1.0034535960948214, val acc: 0.651285461161999\n",
      "\n",
      "Epoch 13\n",
      " train loss: 0.9998510595431493, train acc: 0.6540178571584238\n",
      " val loss: 1.0357960614752262, val acc: 0.6371453901554676\n",
      "\n",
      "Epoch 14\n",
      " train loss: 0.9860902590987015, train acc: 0.6572783364892224\n",
      " val loss: 0.9837601271081478, val acc: 0.657158688027808\n",
      "\n",
      "Epoch 15\n",
      " train loss: 0.9701346255961458, train acc: 0.6635585335752427\n",
      " val loss: 0.9889408281508912, val acc: 0.6563164893617022\n",
      "\n",
      "Epoch 16\n",
      " train loss: 0.9596758466316098, train acc: 0.668451292859135\n",
      " val loss: 0.9773441520143062, val acc: 0.6613253547790202\n",
      "\n",
      "Epoch 17\n",
      " train loss: 0.9534952635085125, train acc: 0.6694388221779078\n",
      " val loss: 0.9573962411981948, val acc: 0.6689937944107868\n",
      "\n",
      "Epoch 18\n",
      " train loss: 0.9368506249387696, train acc: 0.6779062745775993\n",
      " val loss: 0.9594960940645096, val acc: 0.6653812058428501\n",
      "\n",
      "Epoch 19\n",
      " train loss: 0.9318232479653367, train acc: 0.6778164990859232\n",
      " val loss: 0.9352718403998842, val acc: 0.6759530143534883\n",
      "\n"
     ]
    }
   ],
   "source": [
    "net = BasicBlockNet().to(device)\n",
    "optimizer = optim.SGD(net.parameters(), lr=0.001, momentum=0.9)\n",
    "tr_loss_log, tr_acc_log, val_loss_log, val_acc_log = train(\n",
    "    net, optimizer, 20, train_loader, val_loader\n",
    ")"
   ]
  },
  {
   "cell_type": "code",
   "execution_count": 20,
   "metadata": {},
   "outputs": [
    {
     "name": "stdout",
     "output_type": "stream",
     "text": [
      "test_loss: 0.9373387500738642\n",
      "test_acc: 0.6753582802547771\n"
     ]
    }
   ],
   "source": [
    "test_loss, test_acc = test(net, test_loader)\n",
    "print(f\"test_loss: {test_loss}\")\n",
    "print(f\"test_acc: {test_acc}\")"
   ]
  },
  {
   "cell_type": "markdown",
   "metadata": {
    "id": "xVotU378O9Du",
    "pycharm": {
     "name": "#%% md\n"
    }
   },
   "source": [
    "**Задание 3.1 (1.5 балла).** Изучите, какие еще способы уменьшения длины шага представлены в <code>torch.optim.lr_scheduler</code>. Выберите несколько из них, объясните, как они устроены, и обучите модель с ними. Удалось ли добиться улучшения качества на тестовой выборке?"
   ]
  },
  {
   "cell_type": "code",
   "execution_count": 21,
   "metadata": {
    "id": "nkGlzocOO9Du",
    "pycharm": {
     "name": "#%%\n"
    }
   },
   "outputs": [],
   "source": [
    "from torch.optim.lr_scheduler import LinearLR, ReduceLROnPlateau, ExponentialLR"
   ]
  },
  {
   "cell_type": "markdown",
   "metadata": {},
   "source": [
    "**LinearLR** - линейно изменяет lr от $\\text{lr} \\cdot \\text{startFactor}$ до $\\text{lr} \\cdot \\text{endFactor}$ (у меня почему-то тех не работает если использовать _ поэтому camelCase). "
   ]
  },
  {
   "cell_type": "code",
   "execution_count": 22,
   "metadata": {},
   "outputs": [
    {
     "name": "stdout",
     "output_type": "stream",
     "text": [
      "Epoch 0\n",
      " train loss: 1.4527509572083162, train acc: 0.47857632541133455\n",
      " val loss: 1.3044631161588303, val acc: 0.5470079787234042\n",
      "\n",
      "Epoch 1\n",
      " train loss: 1.154185533850459, train acc: 0.596157613031607\n",
      " val loss: 1.0757200248697971, val acc: 0.6254432624958931\n",
      "\n",
      "Epoch 2\n",
      " train loss: 1.05124044233092, train acc: 0.631084323583181\n",
      " val loss: 1.0597234183169426, val acc: 0.6334219859001484\n",
      "\n",
      "Epoch 3\n",
      " train loss: 1.0039726621054208, train acc: 0.6511613672132683\n",
      " val loss: 1.0320808425862738, val acc: 0.6359929079705097\n",
      "\n",
      "Epoch 4\n",
      " train loss: 0.9655224394318827, train acc: 0.6642522526397565\n",
      " val loss: 1.013198712024283, val acc: 0.6501551420130628\n",
      "\n",
      "Epoch 5\n",
      " train loss: 0.9442661806695858, train acc: 0.6703488182760026\n",
      " val loss: 1.0082325595490476, val acc: 0.6541445037151905\n",
      "\n",
      "Epoch 6\n",
      " train loss: 0.9160896780503951, train acc: 0.683872257878619\n",
      " val loss: 0.9756747666825639, val acc: 0.6705008866939138\n",
      "\n",
      "Epoch 7\n",
      " train loss: 0.8848722171739861, train acc: 0.6944331091980176\n",
      " val loss: 0.9012156210047133, val acc: 0.6919326241980208\n",
      "\n",
      "Epoch 8\n",
      " train loss: 0.8573854539468476, train acc: 0.7002562680017795\n",
      " val loss: 0.9184819234178422, val acc: 0.6823581561129144\n",
      "\n",
      "Epoch 9\n",
      " train loss: 0.8440555799377901, train acc: 0.7067649843923789\n",
      " val loss: 0.9830066797581125, val acc: 0.6612810284533399\n",
      "\n",
      "Epoch 10\n",
      " train loss: 0.8197955442847892, train acc: 0.715032482386943\n",
      " val loss: 0.9234978906651761, val acc: 0.6856382978723404\n",
      "\n",
      "Epoch 11\n",
      " train loss: 0.8139130620241601, train acc: 0.7174278532565185\n",
      " val loss: 0.8695548704329957, val acc: 0.7054964539852548\n",
      "\n",
      "Epoch 12\n",
      " train loss: 0.8019565452823255, train acc: 0.722765408769604\n",
      " val loss: 0.8726433486380476, val acc: 0.7007978723404256\n",
      "\n",
      "Epoch 13\n",
      " train loss: 0.7919323683002967, train acc: 0.7237366153509569\n",
      " val loss: 0.908352545474438, val acc: 0.7014406029214251\n",
      "\n",
      "Epoch 14\n",
      " train loss: 0.7814005920067566, train acc: 0.7282131431961408\n",
      " val loss: 0.889566929543272, val acc: 0.6965203901554676\n",
      "\n",
      "Epoch 15\n",
      " train loss: 0.7708623167365735, train acc: 0.7327468008402279\n",
      " val loss: 0.9018499232353048, val acc: 0.6982934398854033\n",
      "\n",
      "Epoch 16\n",
      " train loss: 0.7617470627511005, train acc: 0.7345749544051273\n",
      " val loss: 0.887475791763752, val acc: 0.7003546100981692\n",
      "\n",
      "Epoch 17\n",
      " train loss: 0.7581450125743964, train acc: 0.7372314900541218\n",
      " val loss: 0.858695809765065, val acc: 0.7085106382978723\n",
      "\n",
      "Epoch 18\n",
      " train loss: 0.7433410002500963, train acc: 0.741010218150437\n",
      " val loss: 0.9141166976157655, val acc: 0.6988475178150421\n",
      "\n",
      "Epoch 19\n",
      " train loss: 0.7362136461072256, train acc: 0.7430505680645624\n",
      " val loss: 0.8809216692092571, val acc: 0.7079343973322118\n",
      "\n"
     ]
    }
   ],
   "source": [
    "# LinearLR\n",
    "\n",
    "net = BasicBlockNet().to(device)\n",
    "optimizer = optim.SGD(net.parameters(), lr=0.1, momentum=0.9)\n",
    "scheduler = LinearLR(optimizer, start_factor=0.3, end_factor=1.0, total_iters=5)\n",
    "tr_loss_log, tr_acc_log, val_loss_log, val_acc_log = train(\n",
    "    net, optimizer, 20, train_loader, val_loader, scheduler\n",
    ")\n",
    "\n",
    "# в этом случае lr будет следующим:\n",
    "# iter = 0: lr=0.03\n",
    "# iter = 1: lr=0.0475\n",
    "# iter = 2: lr=0.065\n",
    "# iter = 3: lr=0.0825\n",
    "# iter >= 4: lr=0.1"
   ]
  },
  {
   "cell_type": "code",
   "execution_count": 23,
   "metadata": {},
   "outputs": [
    {
     "name": "stdout",
     "output_type": "stream",
     "text": [
      "LinearLR_test_loss: 0.8927030358344886\n",
      "LinearLR_test_acc: 0.6969546178343949\n"
     ]
    }
   ],
   "source": [
    "test_loss, test_acc = test(net, test_loader)\n",
    "print(f\"LinearLR_test_loss: {test_loss}\")\n",
    "print(f\"LinearLR_test_acc: {test_acc}\")"
   ]
  },
  {
   "cell_type": "markdown",
   "metadata": {},
   "source": [
    "**ReduceLROnPlateau** - начинает менять $\\text{lr}$ (умножая его на $\\text{factor}$) когда какая-то метрика (которую мы передаем в scheduler.step()) не улучшается уже $\\text{patience}$ эпох "
   ]
  },
  {
   "cell_type": "code",
   "execution_count": 24,
   "metadata": {},
   "outputs": [],
   "source": [
    "# for ReduceLROnPlateau we need to pass metric to step\n",
    "\n",
    "\n",
    "def train_pass_loss_to_scheduler_step(\n",
    "    model, optimizer, n_epochs, train_loader, val_loader, scheduler=None\n",
    "):\n",
    "    train_loss_log, train_acc_log, val_loss_log, val_acc_log = [], [], [], []\n",
    "\n",
    "    for epoch in range(n_epochs):\n",
    "        train_loss, train_acc = train_epoch(model, optimizer, train_loader)\n",
    "        val_loss, val_acc = test(model, val_loader)\n",
    "\n",
    "        train_loss_log.extend(train_loss)\n",
    "        train_acc_log.extend(train_acc)\n",
    "\n",
    "        val_loss_log.append(val_loss)\n",
    "        val_acc_log.append(val_acc)\n",
    "\n",
    "        print(f\"Epoch {epoch}\")\n",
    "        print(f\" train loss: {np.mean(train_loss)}, train acc: {np.mean(train_acc)}\")\n",
    "        print(f\" val loss: {val_loss}, val acc: {val_acc}\\n\")\n",
    "\n",
    "        if scheduler is not None:\n",
    "            scheduler.step(val_loss)\n",
    "\n",
    "    return train_loss_log, train_acc_log, val_loss_log, val_acc_log"
   ]
  },
  {
   "cell_type": "code",
   "execution_count": 25,
   "metadata": {},
   "outputs": [
    {
     "name": "stdout",
     "output_type": "stream",
     "text": [
      "Epoch 0\n",
      " train loss: 1.5039880757358, train acc: 0.4616944698354662\n",
      " val loss: 1.333647041625165, val acc: 0.5315824468085106\n",
      "\n",
      "Epoch 1\n",
      " train loss: 1.2258569576404648, train acc: 0.5703675895112088\n",
      " val loss: 1.1430329284769423, val acc: 0.6024822695458188\n",
      "\n",
      "Epoch 2\n",
      " train loss: 1.1043143945812526, train acc: 0.6129945808616373\n",
      " val loss: 1.0836348444857495, val acc: 0.6161347518575953\n",
      "\n",
      "Epoch 3\n",
      " train loss: 1.0294572862454263, train acc: 0.6409881823241602\n",
      " val loss: 1.0657543999083499, val acc: 0.6283909574468085\n",
      "\n",
      "Epoch 4\n",
      " train loss: 0.9821944795753228, train acc: 0.6599348720292505\n",
      " val loss: 0.9640538796465448, val acc: 0.6630540781832756\n",
      "\n",
      "Epoch 5\n",
      " train loss: 0.9434527606589267, train acc: 0.6736297010285763\n",
      " val loss: 0.9930694940242362, val acc: 0.6539671986661059\n",
      "\n",
      "Epoch 6\n",
      " train loss: 0.9183184937105754, train acc: 0.680632182078562\n",
      " val loss: 1.0701609540492931, val acc: 0.6353058510638298\n",
      "\n",
      "Epoch 7\n",
      " train loss: 0.8973695336137872, train acc: 0.6894342517939956\n",
      " val loss: 0.9291523753328527, val acc: 0.6786125888215735\n",
      "\n",
      "Epoch 8\n",
      " train loss: 0.8853219632038904, train acc: 0.6895729956068984\n",
      " val loss: 1.030330881412993, val acc: 0.6534796100981692\n",
      "\n",
      "Epoch 9\n",
      " train loss: 0.8638896710584979, train acc: 0.7000440716525537\n",
      " val loss: 0.934649873033483, val acc: 0.679188829787234\n",
      "\n",
      "Epoch 10\n",
      " train loss: 0.8465500384623651, train acc: 0.7048919430816414\n",
      " val loss: 0.894017574381321, val acc: 0.6933953901554676\n",
      "\n",
      "Epoch 11\n",
      " train loss: 0.8383794951046625, train acc: 0.7108783299134026\n",
      " val loss: 0.9175738722720045, val acc: 0.6903590425531915\n",
      "\n",
      "Epoch 12\n",
      " train loss: 0.8270416325145491, train acc: 0.7139184513083324\n",
      " val loss: 0.9109309394308861, val acc: 0.6869015957446809\n",
      "\n",
      "Epoch 13\n",
      " train loss: 0.8186889303885605, train acc: 0.7167014887171645\n",
      " val loss: 0.9025055520077969, val acc: 0.6960328014607126\n",
      "\n",
      "Epoch 14\n",
      " train loss: 0.8063811070304466, train acc: 0.7204108449615116\n",
      " val loss: 0.899556330417065, val acc: 0.6930407801841167\n",
      "\n",
      "Epoch 15\n",
      " train loss: 0.7072214899921766, train acc: 0.7584266454471749\n",
      " val loss: 0.8139142321779372, val acc: 0.7230718085106383\n",
      "\n",
      "Epoch 16\n",
      " train loss: 0.6922960728679323, train acc: 0.7608587425849119\n",
      " val loss: 0.8135116707771383, val acc: 0.7248005319148936\n",
      "\n",
      "Epoch 17\n",
      " train loss: 0.686328872684151, train acc: 0.7621319208982004\n",
      " val loss: 0.8122529651256318, val acc: 0.7252216312479466\n",
      "\n",
      "Epoch 18\n",
      " train loss: 0.6829489913566457, train acc: 0.764062092007841\n",
      " val loss: 0.8116653768306082, val acc: 0.7247562057160316\n",
      "\n",
      "Epoch 19\n",
      " train loss: 0.6796910105174376, train acc: 0.7661228454527079\n",
      " val loss: 0.8113361467706396, val acc: 0.724911347602276\n",
      "\n"
     ]
    }
   ],
   "source": [
    "# ReduceLROnPlateau\n",
    "\n",
    "net = BasicBlockNet().to(device)\n",
    "optimizer = optim.SGD(net.parameters(), lr=0.1, momentum=0.9)\n",
    "scheduler = ReduceLROnPlateau(optimizer, patience=3)\n",
    "tr_loss_log, tr_acc_log, val_loss_log, val_acc_log = train_pass_loss_to_scheduler_step(\n",
    "    net, optimizer, 20, train_loader, val_loader, scheduler\n",
    ")"
   ]
  },
  {
   "cell_type": "code",
   "execution_count": 26,
   "metadata": {},
   "outputs": [
    {
     "name": "stdout",
     "output_type": "stream",
     "text": [
      "ReduceLROnPlateau_test_loss: 0.8267446164112942\n",
      "ReduceLROnPlateau_test_acc: 0.714171974522293\n"
     ]
    }
   ],
   "source": [
    "test_loss, test_acc = test(net, test_loader)\n",
    "print(f\"ReduceLROnPlateau_test_loss: {test_loss}\")\n",
    "print(f\"ReduceLROnPlateau_test_acc: {test_acc}\")"
   ]
  },
  {
   "cell_type": "markdown",
   "metadata": {},
   "source": [
    "**ExponentialLR** - просто каждую эпоху домножает $\\text{lr}$ на $\\text{gamma}$"
   ]
  },
  {
   "cell_type": "code",
   "execution_count": 27,
   "metadata": {},
   "outputs": [
    {
     "name": "stdout",
     "output_type": "stream",
     "text": [
      "Epoch 0\n",
      " train loss: 1.4830601380991544, train acc: 0.4677665513655821\n",
      " val loss: 1.2218120501396503, val acc: 0.5712322696726373\n",
      "\n",
      "Epoch 1\n",
      " train loss: 1.1204023266405247, train acc: 0.6052167668421046\n",
      " val loss: 1.0719853172910974, val acc: 0.6242907803109352\n",
      "\n",
      "Epoch 2\n",
      " train loss: 0.9924268056749208, train acc: 0.6536261100437785\n",
      " val loss: 0.9911069509830881, val acc: 0.6530141845662543\n",
      "\n",
      "Epoch 3\n",
      " train loss: 0.9320400587165596, train acc: 0.6771595063985375\n",
      " val loss: 0.9524536751686259, val acc: 0.6680851063829787\n",
      "\n",
      "Epoch 4\n",
      " train loss: 0.8980536447800491, train acc: 0.6900137112607032\n",
      " val loss: 0.9253769146635177, val acc: 0.67788120584285\n",
      "\n",
      "Epoch 5\n",
      " train loss: 0.8803207539771113, train acc: 0.6965550731261426\n",
      " val loss: 0.9189156471414769, val acc: 0.6796320922831272\n",
      "\n",
      "Epoch 6\n",
      " train loss: 0.8698168947230309, train acc: 0.6991299948701039\n",
      " val loss: 0.9140233410165665, val acc: 0.6820921986661059\n",
      "\n",
      "Epoch 7\n",
      " train loss: 0.8628671496180337, train acc: 0.7041737399109974\n",
      " val loss: 0.908077808897546, val acc: 0.6840203901554676\n",
      "\n",
      "Epoch 8\n",
      " train loss: 0.8605702006184859, train acc: 0.703986027776868\n",
      " val loss: 0.9075685029334211, val acc: 0.6844858156873824\n",
      "\n",
      "Epoch 9\n",
      " train loss: 0.8588292592186378, train acc: 0.7049980413107375\n",
      " val loss: 0.9071215581386647, val acc: 0.6848182624958931\n",
      "\n",
      "Epoch 10\n",
      " train loss: 0.8580189171831176, train acc: 0.7045450836038677\n",
      " val loss: 0.9065056433068945, val acc: 0.6844193263256804\n",
      "\n",
      "Epoch 11\n",
      " train loss: 0.8567895633211083, train acc: 0.7056713568445098\n",
      " val loss: 0.9066031882103454, val acc: 0.6844858156873824\n",
      "\n",
      "Epoch 12\n",
      " train loss: 0.8574917099593544, train acc: 0.7046307783022223\n",
      " val loss: 0.9064906394228022, val acc: 0.6846187944107868\n",
      "\n",
      "Epoch 13\n",
      " train loss: 0.8580142336963953, train acc: 0.7051694307074469\n",
      " val loss: 0.9065724317063677, val acc: 0.6838209220703612\n",
      "\n",
      "Epoch 14\n",
      " train loss: 0.8582389059406748, train acc: 0.7035901998689014\n",
      " val loss: 0.9066145734584078, val acc: 0.684219858240574\n",
      "\n",
      "Epoch 15\n",
      " train loss: 0.8573994872992827, train acc: 0.7048103291766081\n",
      " val loss: 0.9067033108244551, val acc: 0.6853945037151905\n",
      "\n",
      "Epoch 16\n",
      " train loss: 0.8570220499849407, train acc: 0.7049531536738659\n",
      " val loss: 0.9067519641937094, val acc: 0.6842863476022761\n",
      "\n",
      "Epoch 17\n",
      " train loss: 0.8570345851577397, train acc: 0.7060631039591551\n",
      " val loss: 0.9064253315012506, val acc: 0.6848847518575952\n",
      "\n",
      "Epoch 18\n",
      " train loss: 0.8575697257924123, train acc: 0.7048960237659964\n",
      " val loss: 0.9067197442054749, val acc: 0.684219858240574\n",
      "\n",
      "Epoch 19\n",
      " train loss: 0.8575124340693737, train acc: 0.7062548968866059\n",
      " val loss: 0.9065643457656211, val acc: 0.6838874114320633\n",
      "\n"
     ]
    }
   ],
   "source": [
    "# ExponentialLR\n",
    "\n",
    "net = BasicBlockNet().to(device)\n",
    "optimizer = optim.SGD(net.parameters(), lr=0.1, momentum=0.9)\n",
    "scheduler = ExponentialLR(optimizer, gamma=0.5)\n",
    "tr_loss_log, tr_acc_log, val_loss_log, val_acc_log = train(\n",
    "    net, optimizer, 20, train_loader, val_loader, scheduler\n",
    ")"
   ]
  },
  {
   "cell_type": "code",
   "execution_count": 28,
   "metadata": {},
   "outputs": [
    {
     "name": "stdout",
     "output_type": "stream",
     "text": [
      "ExponentialLR_test_loss: 0.9078107016861059\n",
      "ExponentialLR_test_acc: 0.6861066878980892\n"
     ]
    }
   ],
   "source": [
    "test_loss, test_acc = test(net, test_loader)\n",
    "print(f\"ExponentialLR_test_loss: {test_loss}\")\n",
    "print(f\"ExponentialLR_test_acc: {test_acc}\")"
   ]
  },
  {
   "cell_type": "markdown",
   "metadata": {
    "id": "5a_zMNNVO9Du",
    "pycharm": {
     "name": "#%% md\n"
    }
   },
   "source": [
    "Как видим, какого-то прироста качества не наблюдается (лучшая accuracy получилось с помощью MultiStepLR - 0.71)"
   ]
  },
  {
   "cell_type": "markdown",
   "metadata": {
    "id": "7xFXgl_3_E--",
    "pycharm": {
     "name": "#%% md\n"
    }
   },
   "source": [
    "## 4. Аугментации данных (2 балла)"
   ]
  },
  {
   "cell_type": "markdown",
   "metadata": {
    "id": "5G0Easo9O9Du",
    "pycharm": {
     "name": "#%% md\n"
    }
   },
   "source": [
    "Еще одной стандартной техникой, применяющейся в глубинном обучении, а особенно часто в компьютерном зрении, являются аугментации данных. Суть аугментаций состоит в том, что мы можем некоторым синтетическим образом видоизменять объекты обучающей выборки, тем самым расширяя ее, а также делая итоговую модель более устойчивой к таким изменениям.\n",
    "\n",
    "Простейшая аугментация, которую можно применить к картинкам — разворот картинки по горизонтальной оси. То есть при обучении модели с вероятностью $0.5$ мы будем разворачивать картинку из обучающей выборки."
   ]
  },
  {
   "cell_type": "code",
   "execution_count": 29,
   "metadata": {
    "id": "SzeFpgtfO9Du",
    "pycharm": {
     "name": "#%%\n"
    }
   },
   "outputs": [
    {
     "data": {
      "image/png": "[encoded data removed]",
      "text/plain": [
       "<Figure size 1170x827 with 1 Axes>"
      ]
     },
     "metadata": {},
     "output_type": "display_data"
    },
    {
     "data": {
      "image/png": "[encoded data removed]",
      "text/plain": [
       "<Figure size 1170x827 with 1 Axes>"
      ]
     },
     "metadata": {},
     "output_type": "display_data"
    }
   ],
   "source": [
    "dataiter = iter(train_loader)\n",
    "images, labels = next(dataiter)\n",
    "\n",
    "imshow(torchvision.utils.make_grid(images[:4]))\n",
    "\n",
    "imshow(torchvision.utils.make_grid(transforms.functional.hflip(images[:4])))"
   ]
  },
  {
   "cell_type": "markdown",
   "metadata": {
    "id": "BR4a-XJQO9Du",
    "pycharm": {
     "name": "#%% md\n"
    }
   },
   "source": [
    "Наиболее удобным способом работы с аугментациями в PyTorch является их задание в списке <code>transforms</code>, который затем передается в загрузчик данных. Обучим нашу сеть, применяя горизонтальные повороты:"
   ]
  },
  {
   "cell_type": "code",
   "execution_count": 30,
   "metadata": {
    "id": "na0ScBf-_AqX",
    "pycharm": {
     "name": "#%%\n"
    },
    "scrolled": true
   },
   "outputs": [
    {
     "name": "stdout",
     "output_type": "stream",
     "text": [
      "Files already downloaded and verified\n",
      "Files already downloaded and verified\n",
      "Epoch 0\n",
      " train loss: 1.4856096587843608, train acc: 0.46890506665928927\n",
      " val loss: 1.3248425164121262, val acc: 0.5249113476022761\n",
      "\n",
      "Epoch 1\n",
      " train loss: 1.185835722159642, train acc: 0.5846459585526308\n",
      " val loss: 1.2008283206757078, val acc: 0.5832890071767441\n",
      "\n",
      "Epoch 2\n",
      " train loss: 1.0554661531770906, train acc: 0.6307537869517938\n",
      " val loss: 1.0688822540831058, val acc: 0.6292996454746165\n",
      "\n",
      "Epoch 3\n",
      " train loss: 1.00099875983634, train acc: 0.6524223034734917\n",
      " val loss: 0.9671208133088781, val acc: 0.664472517815042\n",
      "\n",
      "Epoch 4\n",
      " train loss: 0.9646989680295452, train acc: 0.6652928310730776\n",
      " val loss: 0.9848864575649829, val acc: 0.6573138297872341\n",
      "\n",
      "Epoch 5\n",
      " train loss: 0.931903642426897, train acc: 0.6755068230236688\n",
      " val loss: 0.9292059885694626, val acc: 0.6789007093044037\n",
      "\n",
      "Epoch 6\n",
      " train loss: 0.9158317386777135, train acc: 0.6826602899396224\n",
      " val loss: 0.9433075483809126, val acc: 0.6751329787234043\n",
      "\n",
      "Epoch 7\n",
      " train loss: 0.8993065084792142, train acc: 0.6879325542850948\n",
      " val loss: 0.893538738565242, val acc: 0.6952349292471054\n",
      "\n",
      "Epoch 8\n",
      " train loss: 0.8840648437112951, train acc: 0.6950329720865002\n",
      " val loss: 0.9094875700930332, val acc: 0.6892065603682336\n",
      "\n",
      "Epoch 9\n",
      " train loss: 0.8624899751307542, train acc: 0.699150398291879\n",
      " val loss: 0.887523603439331, val acc: 0.6967641845662543\n",
      "\n",
      "Epoch 10\n",
      " train loss: 0.775384272583224, train acc: 0.7326366219267767\n",
      " val loss: 0.8039594363658986, val acc: 0.7246010638297873\n",
      "\n",
      "Epoch 11\n",
      " train loss: 0.7583240999600134, train acc: 0.7376477213838637\n",
      " val loss: 0.7936956679567377, val acc: 0.7251551420130629\n",
      "\n",
      "Epoch 12\n",
      " train loss: 0.7518252709121112, train acc: 0.7395207626946012\n",
      " val loss: 0.7951007222875636, val acc: 0.7307402483960416\n",
      "\n",
      "Epoch 13\n",
      " train loss: 0.7462760363679918, train acc: 0.7436708344837866\n",
      " val loss: 0.7879867388847026, val acc: 0.7308732271194458\n",
      "\n",
      "Epoch 14\n",
      " train loss: 0.7434901174505189, train acc: 0.7443278271711723\n",
      " val loss: 0.7919831747704363, val acc: 0.7278368795171697\n",
      "\n",
      "Epoch 15\n",
      " train loss: 0.730801196431765, train acc: 0.7476780817757142\n",
      " val loss: 0.7799214053661265, val acc: 0.7342863476022761\n",
      "\n",
      "Epoch 16\n",
      " train loss: 0.7257262485227811, train acc: 0.7502040350894823\n",
      " val loss: 0.776137498084535, val acc: 0.7341090425531915\n",
      "\n",
      "Epoch 17\n",
      " train loss: 0.7264042762014504, train acc: 0.7500938561760311\n",
      " val loss: 0.7805794846504293, val acc: 0.7328014186088075\n",
      "\n",
      "Epoch 18\n",
      " train loss: 0.7265480746407832, train acc: 0.7493022003600976\n",
      " val loss: 0.7780790312493101, val acc: 0.7339982271194458\n",
      "\n",
      "Epoch 19\n",
      " train loss: 0.7269770011605466, train acc: 0.7480249412534877\n",
      " val loss: 0.779176035333187, val acc: 0.7350842199427017\n",
      "\n"
     ]
    }
   ],
   "source": [
    "transform = transforms.Compose(\n",
    "        [transforms.RandomHorizontalFlip(),\n",
    "         transforms.ToTensor(),\n",
    "         transforms.Normalize((0.5, 0.5, 0.5), (0.5, 0.5, 0.5))]\n",
    ")\n",
    "\n",
    "train_loader, val_loader, test_loader = get_cifar10_data(batch_size=64, transform_train=transform)\n",
    "\n",
    "net = BasicBlockNet().to(device)\n",
    "optimizer = optim.SGD(net.parameters(), lr=0.1, momentum=0.9)\n",
    "scheduler = optim.lr_scheduler.MultiStepLR(optimizer, milestones=[10, 15], gamma=0.1)\n",
    "tr_loss_log, tr_acc_log, val_loss_log, val_acc_log = train(net, optimizer, 20, train_loader, val_loader, scheduler)"
   ]
  },
  {
   "cell_type": "markdown",
   "metadata": {
    "id": "v3ZIqDQqO9Dv",
    "pycharm": {
     "name": "#%% md\n"
    }
   },
   "source": [
    "Посчитайте точность на тестовой выборке:"
   ]
  },
  {
   "cell_type": "code",
   "execution_count": 31,
   "metadata": {
    "id": "nNJizMkM_Auh",
    "pycharm": {
     "name": "#%%\n"
    }
   },
   "outputs": [
    {
     "name": "stdout",
     "output_type": "stream",
     "text": [
      "RandomHorizontalFlip_test_loss: 0.7987803837675957\n",
      "RandomHorizontalFlip_test_acc: 0.7267117834394905\n"
     ]
    }
   ],
   "source": [
    "test_loss, test_acc = test(net, test_loader)\n",
    "print(f\"RandomHorizontalFlip_test_loss: {test_loss}\")\n",
    "print(f\"RandomHorizontalFlip_test_acc: {test_acc}\")"
   ]
  },
  {
   "cell_type": "markdown",
   "metadata": {
    "id": "KndehSCHO9Dv",
    "pycharm": {
     "name": "#%% md\n"
    }
   },
   "source": [
    "**Задание 4.1 (2 балла).** Изучите, какие еще способы аугментаций изображений представлены в <code>torchvision.transforms</code>. Выберите несколько из них, объясните, как они устроены, и обучите модель с ними (по отдельности и вместе). Удалось ли добиться улучшения качества на тестовой выборке?"
   ]
  },
  {
   "cell_type": "markdown",
   "metadata": {},
   "source": [
    "**RandomGrayscale**: с вероятностью $p = 0.1$ (по умолчанию) делает изображение черно-белым. "
   ]
  },
  {
   "cell_type": "code",
   "execution_count": 32,
   "metadata": {
    "id": "Np4rgvdZ_QRF",
    "pycharm": {
     "name": "#%%\n"
    }
   },
   "outputs": [
    {
     "name": "stdout",
     "output_type": "stream",
     "text": [
      "Files already downloaded and verified\n",
      "Files already downloaded and verified\n",
      "Epoch 0\n",
      " train loss: 1.5122788480910347, train acc: 0.4630492622717207\n",
      " val loss: 1.291318898505353, val acc: 0.5361923759287976\n",
      "\n",
      "Epoch 1\n",
      " train loss: 1.1959695712521918, train acc: 0.581830275559992\n",
      " val loss: 1.1095604224407927, val acc: 0.6107269503968827\n",
      "\n",
      "Epoch 2\n",
      " train loss: 1.0700933826470942, train acc: 0.6300110995660534\n",
      " val loss: 1.0575665438428838, val acc: 0.6395168441407224\n",
      "\n",
      "Epoch 3\n",
      " train loss: 1.0117352569996765, train acc: 0.6485129930419503\n",
      " val loss: 1.0378011934300686, val acc: 0.6401374114320634\n",
      "\n",
      "Epoch 4\n",
      " train loss: 0.9643884922294338, train acc: 0.6646807261315298\n",
      " val loss: 1.0001219541468518, val acc: 0.6487588652904998\n",
      "\n",
      "Epoch 5\n",
      " train loss: 0.930333708060507, train acc: 0.6774737202925045\n",
      " val loss: 0.9940127803924236, val acc: 0.6514849292471053\n",
      "\n",
      "Epoch 6\n",
      " train loss: 0.9078423800917387, train acc: 0.6863206777537763\n",
      " val loss: 0.9263093476599835, val acc: 0.6769725178150421\n",
      "\n",
      "Epoch 7\n",
      " train loss: 0.8960853411902893, train acc: 0.6864961478348406\n",
      " val loss: 0.9180728519216497, val acc: 0.6841090425531915\n",
      "\n",
      "Epoch 8\n",
      " train loss: 0.882166855622907, train acc: 0.6924213241833438\n",
      " val loss: 0.9426173387689794, val acc: 0.6763962765957446\n",
      "\n",
      "Epoch 9\n",
      " train loss: 0.8562535342830191, train acc: 0.7019538391224863\n",
      " val loss: 0.8949152183025442, val acc: 0.695190602921425\n",
      "\n",
      "Epoch 10\n",
      " train loss: 0.7521687337968641, train acc: 0.7406429551419218\n",
      " val loss: 0.8407389351662169, val acc: 0.7102836880278081\n",
      "\n",
      "Epoch 11\n",
      " train loss: 0.7366666824333846, train acc: 0.7438095782966893\n",
      " val loss: 0.8278372381595855, val acc: 0.7134530143534884\n",
      "\n",
      "Epoch 12\n",
      " train loss: 0.729960635931008, train acc: 0.7487880321699697\n",
      " val loss: 0.8287366950765569, val acc: 0.7173315603682335\n",
      "\n",
      "Epoch 13\n",
      " train loss: 0.7296016873345732, train acc: 0.7475556608091979\n",
      " val loss: 0.8220729736571616, val acc: 0.7196808510638298\n",
      "\n",
      "Epoch 14\n",
      " train loss: 0.7218731324677058, train acc: 0.7508365435617715\n",
      " val loss: 0.8229212246042616, val acc: 0.7194148936170213\n",
      "\n",
      "Epoch 15\n",
      " train loss: 0.7074296761583366, train acc: 0.7549172434989887\n",
      " val loss: 0.8146254010657047, val acc: 0.722938829787234\n",
      "\n",
      "Epoch 16\n",
      " train loss: 0.70733848933328, train acc: 0.755557913339988\n",
      " val loss: 0.8169376893246427, val acc: 0.7225398936170213\n",
      "\n",
      "Epoch 17\n",
      " train loss: 0.706584164930654, train acc: 0.7572758879914362\n",
      " val loss: 0.8160167616732577, val acc: 0.7218971632896586\n",
      "\n",
      "Epoch 18\n",
      " train loss: 0.7014978785183573, train acc: 0.7586592453271424\n",
      " val loss: 0.8139209753655373, val acc: 0.7224734042553191\n",
      "\n",
      "Epoch 19\n",
      " train loss: 0.7026952785155455, train acc: 0.7568188496002114\n",
      " val loss: 0.8136078078696068, val acc: 0.7223404255319149\n",
      "\n"
     ]
    }
   ],
   "source": [
    "# RandomGrayscale\n",
    "\n",
    "transform = transforms.Compose(\n",
    "    [\n",
    "        transforms.RandomGrayscale(p=0.1),\n",
    "        transforms.ToTensor(),\n",
    "        transforms.Normalize((0.5, 0.5, 0.5), (0.5, 0.5, 0.5)),\n",
    "    ]\n",
    ")\n",
    "\n",
    "train_loader, val_loader, test_loader = get_cifar10_data(\n",
    "    batch_size=64, transform_train=transform\n",
    ")\n",
    "\n",
    "net = BasicBlockNet().to(device)\n",
    "optimizer = optim.SGD(net.parameters(), lr=0.1, momentum=0.9)\n",
    "scheduler = optim.lr_scheduler.MultiStepLR(optimizer, milestones=[10, 15], gamma=0.1)\n",
    "tr_loss_log, tr_acc_log, val_loss_log, val_acc_log = train(\n",
    "    net, optimizer, 20, train_loader, val_loader, scheduler\n",
    ")"
   ]
  },
  {
   "cell_type": "code",
   "execution_count": 33,
   "metadata": {},
   "outputs": [
    {
     "name": "stdout",
     "output_type": "stream",
     "text": [
      "RandomGrayscale_test_loss: 0.8107127463741667\n",
      "RandomGrayscale_test_acc: 0.7192476114649682\n"
     ]
    }
   ],
   "source": [
    "test_loss, test_acc = test(net, test_loader)\n",
    "print(f\"RandomGrayscale_test_loss: {test_loss}\")\n",
    "print(f\"RandomGrayscale_test_acc: {test_acc}\")"
   ]
  },
  {
   "cell_type": "markdown",
   "metadata": {},
   "source": [
    "**ColorJitter**: изменяет яркость, контрастность, насыщенность и hue (оттенок?) картинки. Каждый параметр изменяется в пределах (max(0, 1 - p), 1 + p), где p - переданное значение, или, если передано 2 значения, то изменяется в пределах (min, max), где min, max - два переданных значения.  "
   ]
  },
  {
   "cell_type": "code",
   "execution_count": 34,
   "metadata": {},
   "outputs": [
    {
     "name": "stdout",
     "output_type": "stream",
     "text": [
      "Files already downloaded and verified\n",
      "Files already downloaded and verified\n",
      "Epoch 0\n",
      " train loss: 1.6622337148655921, train acc: 0.41175894490979487\n",
      " val loss: 1.4371036296195172, val acc: 0.49086879441078674\n",
      "\n",
      "Epoch 1\n",
      " train loss: 1.32100908967651, train acc: 0.5406437712352062\n",
      " val loss: 1.2340073565219312, val acc: 0.5707003546522019\n",
      "\n",
      "Epoch 2\n",
      " train loss: 1.1930112224174374, train acc: 0.5885919953613002\n",
      " val loss: 1.1606677486541424, val acc: 0.6044547872340426\n",
      "\n",
      "Epoch 3\n",
      " train loss: 1.1270344150567622, train acc: 0.6131292439901851\n",
      " val loss: 1.1671743271198678, val acc: 0.6040115248649678\n",
      "\n",
      "Epoch 4\n",
      " train loss: 1.0822087506707452, train acc: 0.6286440650767339\n",
      " val loss: 1.1733028911529704, val acc: 0.593594858240574\n",
      "\n",
      "Epoch 5\n",
      " train loss: 1.0454780224036473, train acc: 0.6434406829926388\n",
      " val loss: 1.0508405530706364, val acc: 0.6365248228641267\n",
      "\n",
      "Epoch 6\n",
      " train loss: 1.020773466478972, train acc: 0.6474928180304045\n",
      " val loss: 1.0620044766588415, val acc: 0.6287455674181593\n",
      "\n",
      "Epoch 7\n",
      " train loss: 1.0052111791736247, train acc: 0.6543035061529393\n",
      " val loss: 1.0643435574592428, val acc: 0.6320478723404256\n",
      "\n",
      "Epoch 8\n",
      " train loss: 0.9938487515153135, train acc: 0.657070220715385\n",
      " val loss: 0.9942449945084593, val acc: 0.6595744680851063\n",
      "\n",
      "Epoch 9\n",
      " train loss: 0.9721215214764178, train acc: 0.6656029642826896\n",
      " val loss: 1.0174360029240872, val acc: 0.6494015957446808\n",
      "\n",
      "Epoch 10\n",
      " train loss: 0.8718974121745805, train acc: 0.7007173870773594\n",
      " val loss: 0.9249084738974875, val acc: 0.6846409574468085\n",
      "\n",
      "Epoch 11\n",
      " train loss: 0.8532190135998525, train acc: 0.7095602638542761\n",
      " val loss: 0.9217427522578138, val acc: 0.6849734042553192\n",
      "\n",
      "Epoch 12\n",
      " train loss: 0.845669860377826, train acc: 0.7103355968238231\n",
      " val loss: 0.9139570401069966, val acc: 0.6899379433469569\n",
      "\n",
      "Epoch 13\n",
      " train loss: 0.8417093732566241, train acc: 0.7114618699554988\n",
      " val loss: 0.9106940426725022, val acc: 0.6889849292471054\n",
      "\n",
      "Epoch 14\n",
      " train loss: 0.8391391663272376, train acc: 0.7118128102265938\n",
      " val loss: 0.907650263766025, val acc: 0.6886303191489361\n",
      "\n",
      "Epoch 15\n",
      " train loss: 0.8247676622497099, train acc: 0.7196477540450297\n",
      " val loss: 0.9005802763269303, val acc: 0.6926196808510638\n",
      "\n",
      "Epoch 16\n",
      " train loss: 0.8188103358423034, train acc: 0.7203945221151251\n",
      " val loss: 0.9026993137724856, val acc: 0.6901374114320633\n",
      "\n",
      "Epoch 17\n",
      " train loss: 0.8248355892066328, train acc: 0.7180766845751942\n",
      " val loss: 0.9009117354737951, val acc: 0.6917331561129144\n",
      "\n",
      "Epoch 18\n",
      " train loss: 0.8198946506275337, train acc: 0.7192641682990945\n",
      " val loss: 0.899592362819834, val acc: 0.6932845744680851\n",
      "\n",
      "Epoch 19\n",
      " train loss: 0.8202743600556793, train acc: 0.7224063071297989\n",
      " val loss: 0.9004107254616758, val acc: 0.6943927305809995\n",
      "\n"
     ]
    }
   ],
   "source": [
    "# ColorJitter\n",
    "\n",
    "transform = transforms.Compose(\n",
    "    [\n",
    "        transforms.ColorJitter(brightness=0.3, contrast=0.3, saturation=0.3, hue=0.3),\n",
    "        transforms.ToTensor(),\n",
    "        transforms.Normalize((0.5, 0.5, 0.5), (0.5, 0.5, 0.5)),\n",
    "    ]\n",
    ")\n",
    "\n",
    "train_loader, val_loader, test_loader = get_cifar10_data(\n",
    "    batch_size=64, transform_train=transform\n",
    ")\n",
    "\n",
    "net = BasicBlockNet().to(device)\n",
    "optimizer = optim.SGD(net.parameters(), lr=0.1, momentum=0.9)\n",
    "scheduler = optim.lr_scheduler.MultiStepLR(optimizer, milestones=[10, 15], gamma=0.1)\n",
    "tr_loss_log, tr_acc_log, val_loss_log, val_acc_log = train(\n",
    "    net, optimizer, 20, train_loader, val_loader, scheduler\n",
    ")"
   ]
  },
  {
   "cell_type": "code",
   "execution_count": 35,
   "metadata": {},
   "outputs": [
    {
     "name": "stdout",
     "output_type": "stream",
     "text": [
      "ColorJitter_test_loss: 0.8558108510485121\n",
      "ColorJitter_test_acc: 0.7057125796178344\n"
     ]
    }
   ],
   "source": [
    "test_loss, test_acc = test(net, test_loader)\n",
    "print(f\"ColorJitter_test_loss: {test_loss}\")\n",
    "print(f\"ColorJitter_test_acc: {test_acc}\")"
   ]
  },
  {
   "cell_type": "markdown",
   "metadata": {},
   "source": [
    "**RandomEqualize**: с вероятностью $p = 0.5$ (по умолчанию) выравнивает гистограмму распределения цветов изображения."
   ]
  },
  {
   "cell_type": "code",
   "execution_count": 50,
   "metadata": {},
   "outputs": [
    {
     "name": "stdout",
     "output_type": "stream",
     "text": [
      "Files already downloaded and verified\n",
      "Files already downloaded and verified\n",
      "Epoch 0\n",
      " train loss: 1.5477132324326845, train acc: 0.4538676873857404\n",
      " val loss: 1.3110554936084342, val acc: 0.5413342199427016\n",
      "\n",
      "Epoch 1\n",
      " train loss: 1.2318877113584628, train acc: 0.5716611713552388\n",
      " val loss: 1.1668079518257304, val acc: 0.5935726952045521\n",
      "\n",
      "Epoch 2\n",
      " train loss: 1.138973781243103, train acc: 0.6064409767796832\n",
      " val loss: 1.1963511482198188, val acc: 0.5982269505237011\n",
      "\n",
      "Epoch 3\n",
      " train loss: 1.0919869421169135, train acc: 0.6246327371004513\n",
      " val loss: 1.1742862503579323, val acc: 0.6000886525245424\n",
      "\n",
      "Epoch 4\n",
      " train loss: 1.0465444958406132, train acc: 0.6409881823241602\n",
      " val loss: 1.0454238178882194, val acc: 0.6432402483960415\n",
      "\n",
      "Epoch 5\n",
      " train loss: 1.015663217582912, train acc: 0.6515367915904936\n",
      " val loss: 1.066835997713373, val acc: 0.6320921986661059\n",
      "\n",
      "Epoch 6\n",
      " train loss: 0.9974646821100489, train acc: 0.6603266192528622\n",
      " val loss: 1.0367561535632357, val acc: 0.650221631374765\n",
      "\n",
      "Epoch 7\n",
      " train loss: 0.9798033972980771, train acc: 0.6646113541705952\n",
      " val loss: 0.9918683257508785, val acc: 0.6586436170212766\n",
      "\n",
      "Epoch 8\n",
      " train loss: 0.9632629475384351, train acc: 0.6681329981718465\n",
      " val loss: 1.066814723927924, val acc: 0.6315824468085106\n",
      "\n",
      "Epoch 9\n",
      " train loss: 0.9422447322927402, train acc: 0.6742581288165105\n",
      " val loss: 0.9712464390917027, val acc: 0.6672650710065314\n",
      "\n",
      "Epoch 10\n",
      " train loss: 0.8436043735396056, train acc: 0.7156609101748772\n",
      " val loss: 0.9176296754086272, val acc: 0.6841090425531915\n",
      "\n",
      "Epoch 11\n",
      " train loss: 0.827077039471492, train acc: 0.7184725124831609\n",
      " val loss: 0.9102068652497961, val acc: 0.6858377659574468\n",
      "\n",
      "Epoch 12\n",
      " train loss: 0.8269292030626503, train acc: 0.7169300079127771\n",
      " val loss: 0.9146051832970152, val acc: 0.6849734042553192\n",
      "\n",
      "Epoch 13\n",
      " train loss: 0.8173856714525868, train acc: 0.7222757247945726\n",
      " val loss: 0.9067801079851516, val acc: 0.6895168441407225\n",
      "\n",
      "Epoch 14\n",
      " train loss: 0.8131364715818513, train acc: 0.7223777422303473\n",
      " val loss: 0.9057972474301115, val acc: 0.6888297872340425\n",
      "\n",
      "Epoch 15\n",
      " train loss: 0.8000709088127618, train acc: 0.7291884304618487\n",
      " val loss: 0.8897618448480646, val acc: 0.6911790781832756\n",
      "\n",
      "Epoch 16\n",
      " train loss: 0.7952257345210918, train acc: 0.729633226691042\n",
      " val loss: 0.8958448874189499, val acc: 0.69350620584285\n",
      "\n",
      "Epoch 17\n",
      " train loss: 0.7968031287302265, train acc: 0.7294087882887511\n",
      " val loss: 0.8978634453834371, val acc: 0.6869015957446809\n",
      "\n",
      "Epoch 18\n",
      " train loss: 0.7919791015563107, train acc: 0.7320938888371972\n",
      " val loss: 0.8940266375846051, val acc: 0.6936391845662543\n",
      "\n",
      "Epoch 19\n",
      " train loss: 0.7965599683128719, train acc: 0.7294087882887511\n",
      " val loss: 0.894453132659831, val acc: 0.6948359930768926\n",
      "\n"
     ]
    }
   ],
   "source": [
    "# RandomEqualize\n",
    "\n",
    "transform = transforms.Compose(\n",
    "    [\n",
    "        transforms.RandomEqualize(p=0.5),\n",
    "        transforms.ToTensor(),\n",
    "        transforms.Normalize((0.5, 0.5, 0.5), (0.5, 0.5, 0.5)),\n",
    "    ]\n",
    ")\n",
    "\n",
    "train_loader, val_loader, test_loader = get_cifar10_data(\n",
    "    batch_size=64, transform_train=transform\n",
    ")\n",
    "\n",
    "net = BasicBlockNet().to(device)\n",
    "optimizer = optim.SGD(net.parameters(), lr=0.1, momentum=0.9)\n",
    "scheduler = optim.lr_scheduler.MultiStepLR(optimizer, milestones=[10, 15], gamma=0.1)\n",
    "tr_loss_log, tr_acc_log, val_loss_log, val_acc_log = train(\n",
    "    net, optimizer, 20, train_loader, val_loader, scheduler\n",
    ")"
   ]
  },
  {
   "cell_type": "code",
   "execution_count": 37,
   "metadata": {},
   "outputs": [
    {
     "name": "stdout",
     "output_type": "stream",
     "text": [
      "ColorJitter_test_loss: 0.8316847917380606\n",
      "ColorJitter_test_acc: 0.7150676751592356\n"
     ]
    }
   ],
   "source": [
    "test_loss, test_acc = test(net, test_loader)\n",
    "print(f\"ColorJitter_test_loss: {test_loss}\")\n",
    "print(f\"ColorJitter_test_acc: {test_acc}\")"
   ]
  },
  {
   "cell_type": "code",
   "execution_count": 60,
   "metadata": {},
   "outputs": [
    {
     "name": "stdout",
     "output_type": "stream",
     "text": [
      "Files already downloaded and verified\n",
      "Files already downloaded and verified\n",
      "Epoch 0\n",
      " train loss: 1.6578778830481187, train acc: 0.41850434186471663\n",
      " val loss: 1.4311598529206946, val acc: 0.4963209220703612\n",
      "\n",
      "Epoch 1\n",
      " train loss: 1.3539755842367518, train acc: 0.5371017237032135\n",
      " val loss: 1.3619740065107955, val acc: 0.5308510638297872\n",
      "\n",
      "Epoch 2\n",
      " train loss: 1.2738714843607035, train acc: 0.5625\n",
      " val loss: 1.2713512139117464, val acc: 0.5679299646235527\n",
      "\n",
      "Epoch 3\n",
      " train loss: 1.2270255883171528, train acc: 0.5791166101120944\n",
      " val loss: 1.3828361632976127, val acc: 0.5323359929500742\n",
      "\n",
      "Epoch 4\n",
      " train loss: 1.184642778563107, train acc: 0.5950109363691898\n",
      " val loss: 1.2340226787201902, val acc: 0.5763519503968827\n",
      "\n",
      "Epoch 5\n",
      " train loss: 1.1694918496081337, train acc: 0.6034294202297218\n",
      " val loss: 1.1910710991697109, val acc: 0.5845744680851064\n",
      "\n",
      "Epoch 6\n",
      " train loss: 1.1437772767417391, train acc: 0.6061186014625228\n",
      " val loss: 1.2064147941609646, val acc: 0.5880097518575952\n",
      "\n",
      "Epoch 7\n",
      " train loss: 1.1329258200891275, train acc: 0.6137168647166362\n",
      " val loss: 1.1988987425540356, val acc: 0.5865248228641267\n",
      "\n",
      "Epoch 8\n",
      " train loss: 1.117649915667295, train acc: 0.6181974732461751\n",
      " val loss: 1.0903061400068568, val acc: 0.6248005319148936\n",
      "\n",
      "Epoch 9\n",
      " train loss: 1.0952157819510815, train acc: 0.6256202664192242\n",
      " val loss: 1.1471096193536798, val acc: 0.6108820922831272\n",
      "\n",
      "Epoch 10\n",
      " train loss: 1.0050385084405025, train acc: 0.657580308221158\n",
      " val loss: 1.020930338666794, val acc: 0.6542109930768926\n",
      "\n",
      "Epoch 11\n",
      " train loss: 0.9940315110156044, train acc: 0.6595023178531221\n",
      " val loss: 1.016341849083596, val acc: 0.6540115249917863\n",
      "\n",
      "Epoch 12\n",
      " train loss: 0.9901378900085115, train acc: 0.6629831549018567\n",
      " val loss: 1.0096025502428096, val acc: 0.6550310284533399\n",
      "\n",
      "Epoch 13\n",
      " train loss: 0.9809763385783166, train acc: 0.6647215330840465\n",
      " val loss: 1.0035649867767984, val acc: 0.6577570922831272\n",
      "\n",
      "Epoch 14\n",
      " train loss: 0.9777318553035395, train acc: 0.6664150235203982\n",
      " val loss: 1.0036503756299933, val acc: 0.6618794327086591\n",
      "\n",
      "Epoch 15\n",
      " train loss: 0.9660323492133858, train acc: 0.6741153043192527\n",
      " val loss: 0.9889284833948663, val acc: 0.6637632978723405\n",
      "\n",
      "Epoch 16\n",
      " train loss: 0.9660200645544411, train acc: 0.6727033820840951\n",
      " val loss: 0.9849543099707746, val acc: 0.6669547872340426\n",
      "\n",
      "Epoch 17\n",
      " train loss: 0.9610835690820893, train acc: 0.6762535910937643\n",
      " val loss: 0.9898730830943331, val acc: 0.6582890071767442\n",
      "\n",
      "Epoch 18\n",
      " train loss: 0.9620439400402676, train acc: 0.6748661530737031\n",
      " val loss: 0.9885177761950391, val acc: 0.6666001773895102\n",
      "\n",
      "Epoch 19\n",
      " train loss: 0.9622591252300814, train acc: 0.6734787151626085\n",
      " val loss: 0.9834594125443317, val acc: 0.6672429079705097\n",
      "\n"
     ]
    }
   ],
   "source": [
    "# и теперь попробуем обучить со всеми аугментациями:\n",
    "\n",
    "transform = transforms.Compose(\n",
    "    [\n",
    "        transforms.ColorJitter(brightness=0.3, contrast=0.3, saturation=0.3, hue=0.3),\n",
    "        transforms.RandomEqualize(p=0.5),\n",
    "        transforms.RandomGrayscale(p=0.1),\n",
    "        transforms.RandomHorizontalFlip(),\n",
    "        transforms.ToTensor(),\n",
    "        transforms.Normalize((0.5, 0.5, 0.5), (0.5, 0.5, 0.5)),\n",
    "    ]\n",
    ")\n",
    "\n",
    "train_loader, val_loader, test_loader = get_cifar10_data(\n",
    "    batch_size=64, transform_train=transform\n",
    ")\n",
    "\n",
    "net = BasicBlockNet().to(device)\n",
    "optimizer = optim.SGD(net.parameters(), lr=0.1, momentum=0.9)\n",
    "scheduler = optim.lr_scheduler.MultiStepLR(optimizer, milestones=[10, 15], gamma=0.1)\n",
    "tr_loss_log, tr_acc_log, val_loss_log, val_acc_log = train(\n",
    "    net, optimizer, 20, train_loader, val_loader, scheduler\n",
    ")"
   ]
  },
  {
   "cell_type": "code",
   "execution_count": 62,
   "metadata": {},
   "outputs": [
    {
     "name": "stdout",
     "output_type": "stream",
     "text": [
      "combined_transform_test_loss: 0.8944115604564642\n",
      "combined_transform_test_acc: 0.6970541401273885\n"
     ]
    }
   ],
   "source": [
    "test_loss, test_acc = test(net, test_loader)\n",
    "print(f\"combined_transform_test_loss: {test_loss}\")\n",
    "print(f\"combined_transform_test_acc: {test_acc}\")"
   ]
  },
  {
   "cell_type": "markdown",
   "metadata": {
    "id": "4K-MptLiO9Dv",
    "pycharm": {
     "name": "#%% md\n"
    }
   },
   "source": [
    "Как видим, в некоторых случаях получилось немного повысить accuracy (например, при использовании RandomGrayscale), но лучшее качество (при применении в одиночку) показал RandomHorizontalFlip. При применении всех аугментаций качество наоборот ухудшилось."
   ]
  },
  {
   "cell_type": "markdown",
   "metadata": {
    "id": "HCENjLw5O9Dv",
    "pycharm": {
     "name": "#%% md\n"
    }
   },
   "source": [
    "## Бонус. Логирование в wandb (2 балла)"
   ]
  },
  {
   "cell_type": "markdown",
   "metadata": {
    "id": "xOyzc1mnO9Dv",
    "pycharm": {
     "name": "#%% md\n"
    }
   },
   "source": [
    "На практике специалиста по глубинному обучению часто встречаются ситуации, когда нейросеть учится на каком-то удаленном сервере. И обычно вам хочется отслеживать прогресс обучения, особенно когда время обучения модели исчисляется днями или неделями. Для таких целей существует несколько инструментов. Вероятно, самый популярный из них — [wandb](https://wandb.ai/site).\n",
    "\n",
    "Ваша задача состоит в том, чтобы разобраться как им пользоваться, и повторить задания 2.1 и 2.2 с его использованием. Обучение вы можете запускать в этом же ноутбуке, но теперь вам необходимо через wandb логировать значения функции потерь и точности на обучающей выборке и на валидационной. Результатом работы должны быть ваш код и публичная ссылка на страничку с графиками, идентичными графикам в задании 2.2."
   ]
  },
  {
   "cell_type": "code",
   "execution_count": 38,
   "metadata": {
    "id": "m5gSTLAr_QS4",
    "pycharm": {
     "name": "#%%\n"
    }
   },
   "outputs": [
    {
     "name": "stderr",
     "output_type": "stream",
     "text": [
      "Failed to detect the name of this notebook, you can set it manually with the WANDB_NOTEBOOK_NAME environment variable to enable code saving.\n",
      "\u001b[34m\u001b[1mwandb\u001b[0m: \u001b[33mWARNING\u001b[0m If you're specifying your api key in code, ensure this code is not shared publicly.\n",
      "\u001b[34m\u001b[1mwandb\u001b[0m: \u001b[33mWARNING\u001b[0m Consider setting the WANDB_API_KEY environment variable, or running `wandb login` from the command line.\n",
      "\u001b[34m\u001b[1mwandb\u001b[0m: Appending key for api.wandb.ai to your netrc file: C:\\Users\\whoee/.netrc\n"
     ]
    },
    {
     "data": {
      "text/plain": [
       "True"
      ]
     },
     "execution_count": 38,
     "metadata": {},
     "output_type": "execute_result"
    }
   ],
   "source": [
    "import wandb\n",
    "\n",
    "wandb.login(key=\"c95dea1ac5d5d044cd0ac07b932e8ed29ff89218\", relogin=True)"
   ]
  },
  {
   "cell_type": "code",
   "execution_count": 56,
   "metadata": {},
   "outputs": [],
   "source": [
    "# log to wandb funcs\n",
    "\n",
    "\n",
    "def test_wandb(model, loader):\n",
    "    loss_log = []\n",
    "    acc_log = []\n",
    "    model.eval()\n",
    "\n",
    "    for data, target in loader:\n",
    "        data = data.to(device)\n",
    "        target = target.to(device)\n",
    "\n",
    "        predictions = model(data)\n",
    "        loss = cross_entropy(predictions, target)\n",
    "\n",
    "        loss_log.append(loss.item())\n",
    "\n",
    "        predicted_classes = torch.argmax(predictions, 1)\n",
    "        acc = torch.sum(predicted_classes == target) / target.size(dim=0)\n",
    "\n",
    "        acc_log.append(acc.item())\n",
    "\n",
    "    log_dict = {\n",
    "        \"test/loss\": np.mean(loss_log),\n",
    "        \"test/acc\": np.mean(acc_log),\n",
    "    }\n",
    "\n",
    "    wandb.log(log_dict)\n",
    "\n",
    "    return np.mean(loss_log), np.mean(acc_log)\n",
    "\n",
    "\n",
    "def train_epoch_wandb(model, optimizer, train_loader):\n",
    "    loss_log = []\n",
    "    acc_log = []\n",
    "    model.train()\n",
    "\n",
    "    for data, target in train_loader:\n",
    "        data = data.to(device)\n",
    "        target = target.to(device)\n",
    "\n",
    "        optimizer.zero_grad()\n",
    "        predictions = model(data)\n",
    "        loss = cross_entropy(predictions, target)\n",
    "\n",
    "        loss_log.append(loss.item())\n",
    "\n",
    "        loss.backward()\n",
    "        optimizer.step()\n",
    "\n",
    "        predicted_classes = torch.argmax(predictions, 1)\n",
    "        acc = torch.sum(predicted_classes == target) / target.size(dim=0)\n",
    "        acc_log.append(acc.item())\n",
    "\n",
    "        log_dict = {\n",
    "            \"train/loss\": loss_log[-1],\n",
    "            \"train/acc\": acc_log[-1],\n",
    "        }\n",
    "\n",
    "        wandb.log(log_dict)\n",
    "\n",
    "    return loss_log, acc_log\n",
    "\n",
    "\n",
    "def train_wandb(model, optimizer, n_epochs, train_loader, val_loader, scheduler=None):\n",
    "    train_loss_log, train_acc_log, val_loss_log, val_acc_log = [], [], [], []\n",
    "\n",
    "    wandb.define_metric(\"val/loss\", summary=\"min\")\n",
    "\n",
    "    wandb.define_metric(\"val/acc\", summary=\"max\")\n",
    "\n",
    "    for epoch in range(n_epochs):\n",
    "        train_loss, train_acc = train_epoch_wandb(model, optimizer, train_loader)\n",
    "        val_loss, val_acc = test(model, val_loader)\n",
    "\n",
    "        train_loss_log.extend(train_loss)\n",
    "        train_acc_log.extend(train_acc)\n",
    "\n",
    "        val_loss_log.append(val_loss)\n",
    "        val_acc_log.append(val_acc)\n",
    "\n",
    "        log_dict = {\n",
    "            \"val/loss\": val_loss,\n",
    "            \"val/acc\": val_acc,\n",
    "        }\n",
    "\n",
    "        wandb.log(log_dict)\n",
    "\n",
    "        if scheduler is not None:\n",
    "            scheduler.step()\n",
    "\n",
    "    return train_loss_log, train_acc_log, val_loss_log, val_acc_log"
   ]
  },
  {
   "cell_type": "code",
   "execution_count": 57,
   "metadata": {},
   "outputs": [],
   "source": [
    "# code from https://docs.wandb.ai/tutorials/pytorch\n",
    "\n",
    "\n",
    "def model_pipeline():\n",
    "    # tell wandb to get started\n",
    "    with wandb.init(project=\"dl_shw2_ostashkov\"):\n",
    "        # make the model, data, and optimization problem\n",
    "        model = BasicBlockNet().to(device)\n",
    "        optimizer = optim.SGD(model.parameters(), lr=0.1, momentum=0.9)\n",
    "        transform = transforms.Compose(\n",
    "            [\n",
    "                transforms.ToTensor(),\n",
    "                transforms.Normalize((0.5, 0.5, 0.5), (0.5, 0.5, 0.5)),\n",
    "            ]\n",
    "        )\n",
    "\n",
    "        train_loader, val_loader, test_loader = get_cifar10_data(\n",
    "            batch_size=64, transform_train=transform\n",
    "        )\n",
    "\n",
    "        # and use them to train the model\n",
    "        train_wandb(model, optimizer, 20, train_loader, val_loader)\n",
    "\n",
    "        # and test its final performance\n",
    "        test_wandb(model, test_loader)\n",
    "\n",
    "    return model"
   ]
  },
  {
   "cell_type": "code",
   "execution_count": 58,
   "metadata": {},
   "outputs": [
    {
     "data": {
      "text/html": [
       "Tracking run with wandb version 0.16.0"
      ],
      "text/plain": [
       "<IPython.core.display.HTML object>"
      ]
     },
     "metadata": {},
     "output_type": "display_data"
    },
    {
     "data": {
      "text/html": [
       "Run data is saved locally in <code>c:\\repos\\intro-to-dl-hse\\homeworks-small\\wandb\\run-20231116_142531-j99hyiup</code>"
      ],
      "text/plain": [
       "<IPython.core.display.HTML object>"
      ]
     },
     "metadata": {},
     "output_type": "display_data"
    },
    {
     "data": {
      "text/html": [
       "Syncing run <strong><a href='https://wandb.ai/max23-ost/dl_shw2_ostashkov/runs/j99hyiup' target=\"_blank\">eager-gorge-9</a></strong> to <a href='https://wandb.ai/max23-ost/dl_shw2_ostashkov' target=\"_blank\">Weights & Biases</a> (<a href='https://wandb.me/run' target=\"_blank\">docs</a>)<br/>"
      ],
      "text/plain": [
       "<IPython.core.display.HTML object>"
      ]
     },
     "metadata": {},
     "output_type": "display_data"
    },
    {
     "data": {
      "text/html": [
       " View project at <a href='https://wandb.ai/max23-ost/dl_shw2_ostashkov' target=\"_blank\">https://wandb.ai/max23-ost/dl_shw2_ostashkov</a>"
      ],
      "text/plain": [
       "<IPython.core.display.HTML object>"
      ]
     },
     "metadata": {},
     "output_type": "display_data"
    },
    {
     "data": {
      "text/html": [
       " View run at <a href='https://wandb.ai/max23-ost/dl_shw2_ostashkov/runs/j99hyiup' target=\"_blank\">https://wandb.ai/max23-ost/dl_shw2_ostashkov/runs/j99hyiup</a>"
      ],
      "text/plain": [
       "<IPython.core.display.HTML object>"
      ]
     },
     "metadata": {},
     "output_type": "display_data"
    },
    {
     "name": "stdout",
     "output_type": "stream",
     "text": [
      "Files already downloaded and verified\n",
      "Files already downloaded and verified\n"
     ]
    },
    {
     "data": {
      "application/vnd.jupyter.widget-view+json": {
       "model_id": "a1a21a8cf4c0424dae9b90fcf58aa3f2",
       "version_major": 2,
       "version_minor": 0
      },
      "text/plain": [
       "VBox(children=(Label(value='0.001 MB of 0.001 MB uploaded\\r'), FloatProgress(value=1.0, max=1.0)))"
      ]
     },
     "metadata": {},
     "output_type": "display_data"
    },
    {
     "data": {
      "text/html": [
       "<style>\n",
       "    table.wandb td:nth-child(1) { padding: 0 10px; text-align: left ; width: auto;} td:nth-child(2) {text-align: left ; width: 100%}\n",
       "    .wandb-row { display: flex; flex-direction: row; flex-wrap: wrap; justify-content: flex-start; width: 100% }\n",
       "    .wandb-col { display: flex; flex-direction: column; flex-basis: 100%; flex: 1; padding: 10px; }\n",
       "    </style>\n",
       "<div class=\"wandb-row\"><div class=\"wandb-col\"><h3>Run history:</h3><br/><table class=\"wandb\"><tr><td>test/acc</td><td>▁</td></tr><tr><td>test/loss</td><td>▁</td></tr><tr><td>train/acc</td><td>▁▄▂▄▅▅▄▇▆▅▄▄▅▆▅▃▅▅▆▆▇▆▆▄▆▅▆▅▆▆▇▆▇▆▆▇▇█▆▇</td></tr><tr><td>train/loss</td><td>█▅▆▅▄▄▄▂▂▂▄▅▃▁▄▄▃▃▃▃▂▂▃▂▂▃▁▃▁▂▁▂▂▂▂▁▁▁▂▁</td></tr><tr><td>val/acc</td><td>▁▄▅▅▆▅▆▇▆▇▇▇██▇█▇███</td></tr><tr><td>val/loss</td><td>█▅▅▄▃▃▂▂▃▂▂▂▁▁▂▁▂▁▁▂</td></tr></table><br/></div><div class=\"wandb-col\"><h3>Run summary:</h3><br/><table class=\"wandb\"><tr><td>test/acc</td><td>0.69019</td></tr><tr><td>test/loss</td><td>0.91489</td></tr><tr><td>train/acc</td><td>0.625</td></tr><tr><td>train/loss</td><td>1.14688</td></tr></table><br/></div></div>"
      ],
      "text/plain": [
       "<IPython.core.display.HTML object>"
      ]
     },
     "metadata": {},
     "output_type": "display_data"
    },
    {
     "data": {
      "text/html": [
       " View run <strong style=\"color:#cdcd00\">eager-gorge-9</strong> at: <a href='https://wandb.ai/max23-ost/dl_shw2_ostashkov/runs/j99hyiup' target=\"_blank\">https://wandb.ai/max23-ost/dl_shw2_ostashkov/runs/j99hyiup</a><br/>Synced 5 W&B file(s), 0 media file(s), 0 artifact file(s) and 0 other file(s)"
      ],
      "text/plain": [
       "<IPython.core.display.HTML object>"
      ]
     },
     "metadata": {},
     "output_type": "display_data"
    },
    {
     "data": {
      "text/html": [
       "Find logs at: <code>.\\wandb\\run-20231116_142531-j99hyiup\\logs</code>"
      ],
      "text/plain": [
       "<IPython.core.display.HTML object>"
      ]
     },
     "metadata": {},
     "output_type": "display_data"
    },
    {
     "data": {
      "text/plain": [
       "BasicBlockNet(\n",
       "  (block1): Sequential(\n",
       "    (0): Conv2d(3, 32, kernel_size=(3, 3), stride=(1, 1), padding=(1, 1))\n",
       "    (1): BatchNorm2d(32, eps=1e-05, momentum=0.1, affine=True, track_running_stats=True)\n",
       "    (2): ReLU()\n",
       "    (3): Conv2d(32, 32, kernel_size=(3, 3), stride=(1, 1), padding=(1, 1))\n",
       "    (4): BatchNorm2d(32, eps=1e-05, momentum=0.1, affine=True, track_running_stats=True)\n",
       "  )\n",
       "  (conv): Conv2d(3, 32, kernel_size=(1, 1), stride=(1, 1))\n",
       "  (block2): Sequential(\n",
       "    (0): ReLU()\n",
       "    (1): AvgPool2d(kernel_size=8, stride=8, padding=0)\n",
       "  )\n",
       "  (linear): Linear(in_features=512, out_features=10, bias=True)\n",
       ")"
      ]
     },
     "execution_count": 58,
     "metadata": {},
     "output_type": "execute_result"
    }
   ],
   "source": [
    "model_pipeline()"
   ]
  },
  {
   "cell_type": "code",
   "execution_count": 59,
   "metadata": {},
   "outputs": [],
   "source": [
    "wandb.finish(0)"
   ]
  },
  {
   "cell_type": "markdown",
   "metadata": {},
   "source": [
    "Ссылка на ран: https://wandb.ai/max23-ost/dl_shw2_ostashkov/runs/j99hyiup?workspace=user-max23-ost"
   ]
  }
 ],
 "metadata": {
  "accelerator": "GPU",
  "colab": {
   "collapsed_sections": [],
   "provenance": []
  },
  "kernelspec": {
   "display_name": "Python 3 (ipykernel)",
   "language": "python",
   "name": "python3"
  },
  "language_info": {
   "codemirror_mode": {
    "name": "ipython",
    "version": 3
   },
   "file_extension": ".py",
   "mimetype": "text/x-python",
   "name": "python",
   "nbconvert_exporter": "python",
   "pygments_lexer": "ipython3",
   "version": "3.10.7"
  },
  "widgets": {
   "application/vnd.jupyter.widget-state+json": {
    "0fee9f5b7bdb4129a71ef0cfe9d3b1fa": {
     "model_module": "@jupyter-widgets/controls",
     "model_module_version": "1.5.0",
     "model_name": "ProgressStyleModel",
     "state": {
      "_model_module": "@jupyter-widgets/controls",
      "_model_module_version": "1.5.0",
      "_model_name": "ProgressStyleModel",
      "_view_count": null,
      "_view_module": "@jupyter-widgets/base",
      "_view_module_version": "1.2.0",
      "_view_name": "StyleView",
      "bar_color": null,
      "description_width": ""
     }
    },
    "17b2be81159e41f1a5c6bb966516572e": {
     "model_module": "@jupyter-widgets/base",
     "model_module_version": "1.2.0",
     "model_name": "LayoutModel",
     "state": {
      "_model_module": "@jupyter-widgets/base",
      "_model_module_version": "1.2.0",
      "_model_name": "LayoutModel",
      "_view_count": null,
      "_view_module": "@jupyter-widgets/base",
      "_view_module_version": "1.2.0",
      "_view_name": "LayoutView",
      "align_content": null,
      "align_items": null,
      "align_self": null,
      "border": null,
      "bottom": null,
      "display": null,
      "flex": null,
      "flex_flow": null,
      "grid_area": null,
      "grid_auto_columns": null,
      "grid_auto_flow": null,
      "grid_auto_rows": null,
      "grid_column": null,
      "grid_gap": null,
      "grid_row": null,
      "grid_template_areas": null,
      "grid_template_columns": null,
      "grid_template_rows": null,
      "height": null,
      "justify_content": null,
      "justify_items": null,
      "left": null,
      "margin": null,
      "max_height": null,
      "max_width": null,
      "min_height": null,
      "min_width": null,
      "object_fit": null,
      "object_position": null,
      "order": null,
      "overflow": null,
      "overflow_x": null,
      "overflow_y": null,
      "padding": null,
      "right": null,
      "top": null,
      "visibility": null,
      "width": null
     }
    },
    "18b20091dbf64b129824a8fb3266e3c0": {
     "model_module": "@jupyter-widgets/controls",
     "model_module_version": "1.5.0",
     "model_name": "DescriptionStyleModel",
     "state": {
      "_model_module": "@jupyter-widgets/controls",
      "_model_module_version": "1.5.0",
      "_model_name": "DescriptionStyleModel",
      "_view_count": null,
      "_view_module": "@jupyter-widgets/base",
      "_view_module_version": "1.2.0",
      "_view_name": "StyleView",
      "description_width": ""
     }
    },
    "22bb21a6c57a413fb7374efe31349e6e": {
     "model_module": "@jupyter-widgets/base",
     "model_module_version": "1.2.0",
     "model_name": "LayoutModel",
     "state": {
      "_model_module": "@jupyter-widgets/base",
      "_model_module_version": "1.2.0",
      "_model_name": "LayoutModel",
      "_view_count": null,
      "_view_module": "@jupyter-widgets/base",
      "_view_module_version": "1.2.0",
      "_view_name": "LayoutView",
      "align_content": null,
      "align_items": null,
      "align_self": null,
      "border": null,
      "bottom": null,
      "display": null,
      "flex": null,
      "flex_flow": null,
      "grid_area": null,
      "grid_auto_columns": null,
      "grid_auto_flow": null,
      "grid_auto_rows": null,
      "grid_column": null,
      "grid_gap": null,
      "grid_row": null,
      "grid_template_areas": null,
      "grid_template_columns": null,
      "grid_template_rows": null,
      "height": null,
      "justify_content": null,
      "justify_items": null,
      "left": null,
      "margin": null,
      "max_height": null,
      "max_width": null,
      "min_height": null,
      "min_width": null,
      "object_fit": null,
      "object_position": null,
      "order": null,
      "overflow": null,
      "overflow_x": null,
      "overflow_y": null,
      "padding": null,
      "right": null,
      "top": null,
      "visibility": null,
      "width": null
     }
    },
    "7d238166caf64537ad9aa2040dcdc1ec": {
     "model_module": "@jupyter-widgets/controls",
     "model_module_version": "1.5.0",
     "model_name": "DescriptionStyleModel",
     "state": {
      "_model_module": "@jupyter-widgets/controls",
      "_model_module_version": "1.5.0",
      "_model_name": "DescriptionStyleModel",
      "_view_count": null,
      "_view_module": "@jupyter-widgets/base",
      "_view_module_version": "1.2.0",
      "_view_name": "StyleView",
      "description_width": ""
     }
    },
    "95c5696493db48738dbdc9940acec1d8": {
     "model_module": "@jupyter-widgets/controls",
     "model_module_version": "1.5.0",
     "model_name": "HTMLModel",
     "state": {
      "_dom_classes": [],
      "_model_module": "@jupyter-widgets/controls",
      "_model_module_version": "1.5.0",
      "_model_name": "HTMLModel",
      "_view_count": null,
      "_view_module": "@jupyter-widgets/controls",
      "_view_module_version": "1.5.0",
      "_view_name": "HTMLView",
      "description": "",
      "description_tooltip": null,
      "layout": "IPY_MODEL_22bb21a6c57a413fb7374efe31349e6e",
      "placeholder": "​",
      "style": "IPY_MODEL_18b20091dbf64b129824a8fb3266e3c0",
      "value": "100%"
     }
    },
    "9bad0d6a00c14229b0d776a2cfe15090": {
     "model_module": "@jupyter-widgets/base",
     "model_module_version": "1.2.0",
     "model_name": "LayoutModel",
     "state": {
      "_model_module": "@jupyter-widgets/base",
      "_model_module_version": "1.2.0",
      "_model_name": "LayoutModel",
      "_view_count": null,
      "_view_module": "@jupyter-widgets/base",
      "_view_module_version": "1.2.0",
      "_view_name": "LayoutView",
      "align_content": null,
      "align_items": null,
      "align_self": null,
      "border": null,
      "bottom": null,
      "display": null,
      "flex": null,
      "flex_flow": null,
      "grid_area": null,
      "grid_auto_columns": null,
      "grid_auto_flow": null,
      "grid_auto_rows": null,
      "grid_column": null,
      "grid_gap": null,
      "grid_row": null,
      "grid_template_areas": null,
      "grid_template_columns": null,
      "grid_template_rows": null,
      "height": null,
      "justify_content": null,
      "justify_items": null,
      "left": null,
      "margin": null,
      "max_height": null,
      "max_width": null,
      "min_height": null,
      "min_width": null,
      "object_fit": null,
      "object_position": null,
      "order": null,
      "overflow": null,
      "overflow_x": null,
      "overflow_y": null,
      "padding": null,
      "right": null,
      "top": null,
      "visibility": null,
      "width": null
     }
    },
    "aa9da821ba0c42b5b051355e50e691f0": {
     "model_module": "@jupyter-widgets/controls",
     "model_module_version": "1.5.0",
     "model_name": "HBoxModel",
     "state": {
      "_dom_classes": [],
      "_model_module": "@jupyter-widgets/controls",
      "_model_module_version": "1.5.0",
      "_model_name": "HBoxModel",
      "_view_count": null,
      "_view_module": "@jupyter-widgets/controls",
      "_view_module_version": "1.5.0",
      "_view_name": "HBoxView",
      "box_style": "",
      "children": [
       "IPY_MODEL_95c5696493db48738dbdc9940acec1d8",
       "IPY_MODEL_fe515a1f743f49d0b251b43919d52a8e",
       "IPY_MODEL_f4f339c969fd4e21bc683ecb2567897b"
      ],
      "layout": "IPY_MODEL_17b2be81159e41f1a5c6bb966516572e"
     }
    },
    "cd991379661b4b4ab405bf66f75c6834": {
     "model_module": "@jupyter-widgets/base",
     "model_module_version": "1.2.0",
     "model_name": "LayoutModel",
     "state": {
      "_model_module": "@jupyter-widgets/base",
      "_model_module_version": "1.2.0",
      "_model_name": "LayoutModel",
      "_view_count": null,
      "_view_module": "@jupyter-widgets/base",
      "_view_module_version": "1.2.0",
      "_view_name": "LayoutView",
      "align_content": null,
      "align_items": null,
      "align_self": null,
      "border": null,
      "bottom": null,
      "display": null,
      "flex": null,
      "flex_flow": null,
      "grid_area": null,
      "grid_auto_columns": null,
      "grid_auto_flow": null,
      "grid_auto_rows": null,
      "grid_column": null,
      "grid_gap": null,
      "grid_row": null,
      "grid_template_areas": null,
      "grid_template_columns": null,
      "grid_template_rows": null,
      "height": null,
      "justify_content": null,
      "justify_items": null,
      "left": null,
      "margin": null,
      "max_height": null,
      "max_width": null,
      "min_height": null,
      "min_width": null,
      "object_fit": null,
      "object_position": null,
      "order": null,
      "overflow": null,
      "overflow_x": null,
      "overflow_y": null,
      "padding": null,
      "right": null,
      "top": null,
      "visibility": null,
      "width": null
     }
    },
    "f4f339c969fd4e21bc683ecb2567897b": {
     "model_module": "@jupyter-widgets/controls",
     "model_module_version": "1.5.0",
     "model_name": "HTMLModel",
     "state": {
      "_dom_classes": [],
      "_model_module": "@jupyter-widgets/controls",
      "_model_module_version": "1.5.0",
      "_model_name": "HTMLModel",
      "_view_count": null,
      "_view_module": "@jupyter-widgets/controls",
      "_view_module_version": "1.5.0",
      "_view_name": "HTMLView",
      "description": "",
      "description_tooltip": null,
      "layout": "IPY_MODEL_cd991379661b4b4ab405bf66f75c6834",
      "placeholder": "​",
      "style": "IPY_MODEL_7d238166caf64537ad9aa2040dcdc1ec",
      "value": " 170498071/170498071 [00:13&lt;00:00, 13339884.37it/s]"
     }
    },
    "fe515a1f743f49d0b251b43919d52a8e": {
     "model_module": "@jupyter-widgets/controls",
     "model_module_version": "1.5.0",
     "model_name": "FloatProgressModel",
     "state": {
      "_dom_classes": [],
      "_model_module": "@jupyter-widgets/controls",
      "_model_module_version": "1.5.0",
      "_model_name": "FloatProgressModel",
      "_view_count": null,
      "_view_module": "@jupyter-widgets/controls",
      "_view_module_version": "1.5.0",
      "_view_name": "ProgressView",
      "bar_style": "success",
      "description": "",
      "description_tooltip": null,
      "layout": "IPY_MODEL_9bad0d6a00c14229b0d776a2cfe15090",
      "max": 170498071,
      "min": 0,
      "orientation": "horizontal",
      "style": "IPY_MODEL_0fee9f5b7bdb4129a71ef0cfe9d3b1fa",
      "value": 170498071
     }
    }
   }
  }
 },
 "nbformat": 4,
 "nbformat_minor": 1
}
