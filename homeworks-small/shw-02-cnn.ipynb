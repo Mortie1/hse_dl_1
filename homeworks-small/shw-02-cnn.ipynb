{
 "cells": [
  {
   "cell_type": "markdown",
   "metadata": {
    "id": "w35Q6hOIy4sk",
    "pycharm": {
     "name": "#%% md\n"
    }
   },
   "source": [
    "# Глубинное обучение 1 / Введение в глубинное обучение, ФКН ВШЭ\n",
    "\n",
    "## Домашнее задание 2: сверточный классификатор.\n",
    "\n",
    "### Общая информация\n",
    "\n",
    "Оценка после штрафа после мягкого дедлайна вычисляется по формуле $M_{\\text{penalty}} = M_{\\text{full}} \\cdot 0.85^{t/1440}$, где $M_{\\text{full}}$ — полная оценка за работу без учета штрафа, а $t$ — время в минутах, прошедшее после мягкого дедлайна (округление до двух цифр после запятой). Таким образом, спустя первые сутки после мягкого дедлайна вы не можете получить оценку выше 8.5, а если сдать через четыре дня после мягкого дедлайна, то ваш максимум — 5.22 балла.\n",
    "\n",
    "### Оценивание и штрафы\n",
    "\n",
    "Максимально допустимая оценка за работу — 10 баллов. Сдавать задание после указанного срока сдачи нельзя.\n",
    "\n",
    "Задание выполняется самостоятельно. «Похожие» решения считаются плагиатом и все задействованные студенты (в том числе те, у кого списали) не могут получить за него больше 0 баллов. Если вы нашли решение какого-то из заданий (или его часть) в открытом источнике, необходимо указать ссылку на этот источник в отдельном блоке в конце вашей работы (скорее всего вы будете не единственным, кто это нашел, поэтому чтобы исключить подозрение в плагиате, необходима ссылка на источник).\n",
    "\n",
    "Неэффективная реализация кода может негативно отразиться на оценке. Также оценка может быть снижена за плохо читаемый код и плохо оформленные графики. Все ответы должны сопровождаться кодом или комментариями о том, как они были получены.\n",
    "\n",
    "### О задании\n",
    "\n",
    "В этом задании вам предстоит познакомиться со сверточными сетями и их обучением для классификации изображений с использованием библиотеки PyTorch.\n"
   ]
  },
  {
   "cell_type": "code",
   "execution_count": 1,
   "metadata": {
    "id": "SaACifdX2QOo",
    "pycharm": {
     "name": "#%%\n"
    }
   },
   "outputs": [],
   "source": [
    "import torch\n",
    "import torch.nn as nn\n",
    "import torch.nn.functional as F\n",
    "import torch.optim as optim\n",
    "import torchvision\n",
    "import torchvision.transforms as transforms\n",
    "\n",
    "import matplotlib.pyplot as plt\n",
    "import numpy as np\n",
    "\n",
    "from sklearn.model_selection import train_test_split"
   ]
  },
  {
   "cell_type": "markdown",
   "metadata": {
    "id": "TIXaUYM-0JFl",
    "pycharm": {
     "name": "#%% md\n"
    }
   },
   "source": [
    "## 0. Загрузка данных\n",
    "\n",
    "Работать мы будем с набором данных [CIFAR10](https://www.cs.toronto.edu/~kriz/cifar.html). CIFAR10 представляет собой набор изображений 32х32 пикселя, разделенных на 10 классов.\n",
    "\n",
    "![title](https://pytorch.org/tutorials/_images/cifar10.png)\n",
    "\n",
    "\n"
   ]
  },
  {
   "cell_type": "markdown",
   "metadata": {
    "id": "g-0EEjl_10vB",
    "pycharm": {
     "name": "#%% md\n"
    }
   },
   "source": [
    "Набор данных уже определен в <code>torchvision.datasets</code>, так что возьмем его оттуда. \n",
    "\n"
   ]
  },
  {
   "cell_type": "code",
   "execution_count": 2,
   "metadata": {
    "id": "Cbwe92dT3aPZ",
    "pycharm": {
     "name": "#%%\n"
    }
   },
   "outputs": [],
   "source": [
    "def get_cifar10_data(batch_size, transform_train):\n",
    "    torch.manual_seed(0)\n",
    "    np.random.seed(0)\n",
    "\n",
    "    transform_test = transforms.Compose(\n",
    "        [transforms.ToTensor(),\n",
    "         # Переводим цвета пикселей в отрезок [-1, 1]\n",
    "         transforms.Normalize((0.5, 0.5, 0.5), (0.5, 0.5, 0.5))]\n",
    "    )\n",
    "    \n",
    "    # Загружаем данные\n",
    "    trainvalset = torchvision.datasets.CIFAR10(root='./data', train=True,\n",
    "                                               download=True, transform=transform_train)\n",
    "    testset = torchvision.datasets.CIFAR10(root='./data', train=False,\n",
    "                                           download=True, transform=transform_test)\n",
    "    \n",
    "    # В датасете определено разбиение только на train и test,\n",
    "    # так что валидацию дополнительно выделяем из обучающей выборки\n",
    "    train_idx, valid_idx = train_test_split(np.arange(len(trainvalset)), test_size=0.3, \n",
    "                                            shuffle=True, random_state=0)\n",
    "    trainset = torch.utils.data.Subset(trainvalset, train_idx)\n",
    "    valset = torch.utils.data.Subset(trainvalset, valid_idx)\n",
    "\n",
    "    train_loader = torch.utils.data.DataLoader(trainset, batch_size=batch_size,\n",
    "                                               shuffle=True, num_workers=2)\n",
    "    val_loader = torch.utils.data.DataLoader(valset, batch_size=batch_size,\n",
    "                                             shuffle=False, num_workers=2)\n",
    "    test_loader = torch.utils.data.DataLoader(testset, batch_size=batch_size,\n",
    "                                              shuffle=False, num_workers=2)\n",
    "    \n",
    "    return train_loader, val_loader, test_loader\n",
    "    "
   ]
  },
  {
   "cell_type": "code",
   "execution_count": 3,
   "metadata": {
    "colab": {
     "base_uri": "https://localhost:8080/",
     "height": 101,
     "referenced_widgets": [
      "aa9da821ba0c42b5b051355e50e691f0",
      "95c5696493db48738dbdc9940acec1d8",
      "fe515a1f743f49d0b251b43919d52a8e",
      "f4f339c969fd4e21bc683ecb2567897b",
      "17b2be81159e41f1a5c6bb966516572e",
      "22bb21a6c57a413fb7374efe31349e6e",
      "18b20091dbf64b129824a8fb3266e3c0",
      "9bad0d6a00c14229b0d776a2cfe15090",
      "0fee9f5b7bdb4129a71ef0cfe9d3b1fa",
      "cd991379661b4b4ab405bf66f75c6834",
      "7d238166caf64537ad9aa2040dcdc1ec"
     ]
    },
    "id": "2G2rLnN5y6Jj",
    "outputId": "542c91e6-44f6-4e26-f1e8-5df3b83fd044",
    "pycharm": {
     "name": "#%%\n"
    }
   },
   "outputs": [
    {
     "name": "stdout",
     "output_type": "stream",
     "text": [
      "Files already downloaded and verified\n",
      "Files already downloaded and verified\n"
     ]
    }
   ],
   "source": [
    "transform = transforms.Compose(\n",
    "        [transforms.ToTensor(),\n",
    "         transforms.Normalize((0.5, 0.5, 0.5), (0.5, 0.5, 0.5))]\n",
    ")\n",
    "\n",
    "train_loader, val_loader, test_loader = get_cifar10_data(batch_size=64, \n",
    "                                                         transform_train=transform)"
   ]
  },
  {
   "cell_type": "markdown",
   "metadata": {
    "id": "-82HWgXs77W1",
    "pycharm": {
     "name": "#%% md\n"
    }
   },
   "source": [
    "Посмотрим на изображения:"
   ]
  },
  {
   "cell_type": "code",
   "execution_count": 4,
   "metadata": {
    "colab": {
     "base_uri": "https://localhost:8080/",
     "height": 155
    },
    "id": "ACnwaC5iy6L2",
    "outputId": "fd2fc631-ea7b-45f2-9728-eb1c5f9e683c",
    "pycharm": {
     "name": "#%%\n"
    }
   },
   "outputs": [
    {
     "data": {
      "image/png": "[encoded data removed]",
      "text/plain": [
       "<Figure size 640x480 with 1 Axes>"
      ]
     },
     "metadata": {},
     "output_type": "display_data"
    },
    {
     "name": "stdout",
     "output_type": "stream",
     "text": [
      "ship frog horse horse\n"
     ]
    }
   ],
   "source": [
    "def imshow(img):\n",
    "    img = img / 2 + 0.5\n",
    "    npimg = img.numpy()\n",
    "    plt.imshow(np.transpose(npimg, (1, 2, 0)))\n",
    "    plt.show()\n",
    "\n",
    "\n",
    "dataiter = iter(train_loader)\n",
    "images, labels = next(dataiter)\n",
    "\n",
    "imshow(torchvision.utils.make_grid(images[:4]))\n",
    "\n",
    "classes = (\n",
    "    \"plane\",\n",
    "    \"car\",\n",
    "    \"bird\",\n",
    "    \"cat\",\n",
    "    \"deer\",\n",
    "    \"dog\",\n",
    "    \"frog\",\n",
    "    \"horse\",\n",
    "    \"ship\",\n",
    "    \"truck\",\n",
    ")\n",
    "print(*[classes[labels[i]] for i in range(4)])"
   ]
  },
  {
   "cell_type": "markdown",
   "metadata": {
    "id": "KFDilng29YZ_",
    "pycharm": {
     "name": "#%% md\n"
    }
   },
   "source": [
    "## 1. Задание сверточной сети (3 балла)"
   ]
  },
  {
   "cell_type": "markdown",
   "metadata": {
    "id": "OX7Ul8YbYdQR",
    "pycharm": {
     "name": "#%% md\n"
    }
   },
   "source": [
    "Теперь нам нужно задать сверточную нейронную сеть, которую мы будем обучать классифицировать изображения.\n",
    "\n",
    "Используем сеть, основанную на одном блоке архитектуры ResNet.\n",
    "\n",
    "<img src=\"https://i.ibb.co/2hg962h/basic-block.png\" width=\"500\"/>\n",
    "\n",
    "__Указания:__\n",
    "\n",
    "- Все сверточные слои должны иметь 32 выходных канала, а также не должны изменять ширину и высоту изображения.\n",
    "- Выход блока сократите до размерности 32х4х4, применив average pooling.\n",
    "- Для получения итоговых логитов, распрямите выход пулинга в вектор из 512 элементов, а затем пропустите его через линейный слой."
   ]
  },
  {
   "cell_type": "markdown",
   "metadata": {
    "id": "sbyIylT9O9Dr",
    "pycharm": {
     "name": "#%% md\n"
    }
   },
   "source": [
    "**Задание 1.1 (3 балла).**\n",
    "\n",
    "Определите архитектуру сети соответственно схеме и указаниям выше.\n",
    "\n",
    "Ключевые слова: <code>Conv2d</code>, <code>BatchNorm2d</code>, <code>AvgPool2d</code>."
   ]
  },
  {
   "cell_type": "code",
   "execution_count": 5,
   "metadata": {
    "id": "s9ml1QGKy6N9",
    "pycharm": {
     "name": "#%%\n"
    }
   },
   "outputs": [],
   "source": [
    "from torch.nn.modules.activation import ReLU\n",
    "\n",
    "n_classes = 10\n",
    "\n",
    "\n",
    "class BasicBlockNet(nn.Module):\n",
    "    def __init__(self):\n",
    "        super().__init__()\n",
    "\n",
    "        self.block1 = nn.Sequential(\n",
    "            nn.Conv2d(in_channels=3, out_channels=32, kernel_size=3, padding=1),\n",
    "            nn.BatchNorm2d(32),\n",
    "            nn.ReLU(),\n",
    "            nn.Conv2d(in_channels=32, out_channels=32, kernel_size=3, padding=1),\n",
    "            nn.BatchNorm2d(32),\n",
    "        )\n",
    "\n",
    "        self.conv = nn.Conv2d(in_channels=3, out_channels=32, kernel_size=1)\n",
    "\n",
    "        self.block2 = nn.Sequential(nn.ReLU(), nn.AvgPool2d(kernel_size=8))\n",
    "\n",
    "        self.linear = nn.Linear(in_features=512, out_features=n_classes)\n",
    "\n",
    "    def forward(self, x):\n",
    "        flatten_input = self.block2(self.block1(x) + self.conv(x))\n",
    "\n",
    "        flattened = torch.flatten(flatten_input, start_dim=1)\n",
    "\n",
    "        out = self.linear(flattened)\n",
    "\n",
    "        return out"
   ]
  },
  {
   "cell_type": "code",
   "execution_count": 6,
   "metadata": {
    "id": "FI4BQg7Ky6Pw",
    "pycharm": {
     "name": "#%%\n"
    }
   },
   "outputs": [
    {
     "data": {
      "text/plain": [
       "BasicBlockNet(\n",
       "  (block1): Sequential(\n",
       "    (0): Conv2d(3, 32, kernel_size=(3, 3), stride=(1, 1), padding=(1, 1))\n",
       "    (1): BatchNorm2d(32, eps=1e-05, momentum=0.1, affine=True, track_running_stats=True)\n",
       "    (2): ReLU()\n",
       "    (3): Conv2d(32, 32, kernel_size=(3, 3), stride=(1, 1), padding=(1, 1))\n",
       "    (4): BatchNorm2d(32, eps=1e-05, momentum=0.1, affine=True, track_running_stats=True)\n",
       "  )\n",
       "  (conv): Conv2d(3, 32, kernel_size=(1, 1), stride=(1, 1))\n",
       "  (block2): Sequential(\n",
       "    (0): ReLU()\n",
       "    (1): AvgPool2d(kernel_size=8, stride=8, padding=0)\n",
       "  )\n",
       "  (linear): Linear(in_features=512, out_features=10, bias=True)\n",
       ")"
      ]
     },
     "execution_count": 6,
     "metadata": {},
     "output_type": "execute_result"
    }
   ],
   "source": [
    "net = BasicBlockNet()\n",
    "net"
   ]
  },
  {
   "cell_type": "markdown",
   "metadata": {
    "id": "igPoGZEub8d3",
    "pycharm": {
     "name": "#%% md\n"
    }
   },
   "source": [
    "Проверим, что выход сети имеет корректную размерность:"
   ]
  },
  {
   "cell_type": "code",
   "execution_count": 7,
   "metadata": {
    "id": "cCIzFUpJ_Agw",
    "pycharm": {
     "name": "#%%\n"
    }
   },
   "outputs": [],
   "source": [
    "assert net(torch.zeros((10, 3, 32, 32))).shape == (10, 10)"
   ]
  },
  {
   "cell_type": "markdown",
   "metadata": {
    "id": "08osX622cDGz",
    "pycharm": {
     "name": "#%% md\n"
    }
   },
   "source": [
    "Чтобы проводить вычисления на GPU, в PyTorch необходимо руками перекладывать объекты, с которыми вы хотите проводить вычисления, на графический ускоритель. Это делается следующим образрм:"
   ]
  },
  {
   "cell_type": "code",
   "execution_count": 12,
   "metadata": {
    "id": "56hDOMCFcDZX",
    "pycharm": {
     "name": "#%%\n"
    }
   },
   "outputs": [
    {
     "name": "stdout",
     "output_type": "stream",
     "text": [
      "cuda:0\n"
     ]
    }
   ],
   "source": [
    "device = torch.device('cuda:0' if torch.cuda.is_available() else 'cpu')\n",
    "print(device)"
   ]
  },
  {
   "cell_type": "code",
   "execution_count": 13,
   "metadata": {
    "id": "ohnDWbp0qbtC",
    "pycharm": {
     "name": "#%%\n"
    }
   },
   "outputs": [],
   "source": [
    "net = net.to(device)"
   ]
  },
  {
   "cell_type": "markdown",
   "metadata": {
    "id": "H_bOlTVUp5QF",
    "pycharm": {
     "name": "#%% md\n"
    }
   },
   "source": [
    "Подключение GPU в google.colab:\n",
    "\n",
    "**Среда выполнения** -> **Сменить среду выполнения** -> **Аппаратный ускоритель** -> **GPU**"
   ]
  },
  {
   "cell_type": "markdown",
   "metadata": {
    "id": "AGi6XX_7_Bgg",
    "pycharm": {
     "name": "#%% md\n"
    }
   },
   "source": [
    "## 2. Обучение и тестирование модели (3 балла)"
   ]
  },
  {
   "cell_type": "markdown",
   "metadata": {
    "id": "0agj_MQoO9Ds",
    "pycharm": {
     "name": "#%% md\n"
    }
   },
   "source": [
    "**Задание 2.1 (2 балла).** Переходим к обучению модели. Заполните пропуски в функциях <code>test</code> и <code>train_epoch</code>. В качестве функции потерь будем использовать [кросс-энтропию](https://pytorch.org/docs/stable/generated/torch.nn.functional.cross_entropy.html), а в качестве метрики качества accuracy."
   ]
  },
  {
   "cell_type": "code",
   "execution_count": 14,
   "metadata": {
    "id": "g8gsPPRIevDS",
    "pycharm": {
     "name": "#%%\n"
    }
   },
   "outputs": [],
   "source": [
    "from torch.nn.functional import cross_entropy\n",
    "\n",
    "\n",
    "def test(model, loader):\n",
    "    loss_log = []\n",
    "    acc_log = []\n",
    "    model.eval()\n",
    "\n",
    "    for data, target in loader:\n",
    "        data = data.to(device)\n",
    "        target = target.to(device)\n",
    "\n",
    "        predictions = model(data)\n",
    "        loss = cross_entropy(predictions, target)\n",
    "\n",
    "        loss_log.append(loss.item())\n",
    "\n",
    "        predicted_classes = torch.argmax(predictions, 1)\n",
    "        acc = torch.sum(predicted_classes == target) / target.size(dim=0)\n",
    "\n",
    "        acc_log.append(acc.item())\n",
    "\n",
    "    return np.mean(loss_log), np.mean(acc_log)\n",
    "\n",
    "\n",
    "def train_epoch(model, optimizer, train_loader):\n",
    "    loss_log = []\n",
    "    acc_log = []\n",
    "    model.train()\n",
    "\n",
    "    for data, target in train_loader:\n",
    "        data = data.to(device)\n",
    "        target = target.to(device)\n",
    "\n",
    "        optimizer.zero_grad()\n",
    "        predictions = model(data)\n",
    "        loss = cross_entropy(predictions, target)\n",
    "\n",
    "        loss_log.append(loss.item())\n",
    "\n",
    "        loss.backward()\n",
    "        optimizer.step()\n",
    "\n",
    "        predicted_classes = torch.argmax(predictions, 1)\n",
    "        acc = torch.sum(predicted_classes == target) / target.size(dim=0)\n",
    "        acc_log.append(acc.item())\n",
    "\n",
    "    return loss_log, acc_log\n",
    "\n",
    "\n",
    "def train(model, optimizer, n_epochs, train_loader, val_loader, scheduler=None):\n",
    "    train_loss_log, train_acc_log, val_loss_log, val_acc_log = [], [], [], []\n",
    "\n",
    "    for epoch in range(n_epochs):\n",
    "        train_loss, train_acc = train_epoch(model, optimizer, train_loader)\n",
    "        val_loss, val_acc = test(model, val_loader)\n",
    "\n",
    "        train_loss_log.extend(train_loss)\n",
    "        train_acc_log.extend(train_acc)\n",
    "\n",
    "        val_loss_log.append(val_loss)\n",
    "        val_acc_log.append(val_acc)\n",
    "\n",
    "        print(f\"Epoch {epoch}\")\n",
    "        print(f\" train loss: {np.mean(train_loss)}, train acc: {np.mean(train_acc)}\")\n",
    "        print(f\" val loss: {val_loss}, val acc: {val_acc}\\n\")\n",
    "\n",
    "        if scheduler is not None:\n",
    "            scheduler.step()\n",
    "\n",
    "    return train_loss_log, train_acc_log, val_loss_log, val_acc_log"
   ]
  },
  {
   "cell_type": "markdown",
   "metadata": {
    "id": "iSOqk_CAO9Dt",
    "pycharm": {
     "name": "#%% md\n"
    }
   },
   "source": [
    "Запустим обучение модели. В качестве оптимизатора будем использовать стохастический градиентный спуск, который является де-факто стандартом в задачах компьютерного зрения (наравне с <code>Adam</code>).\n",
    "\n",
    "__Замечание:__ Для достижения наилучшего качества в нашем случае потребуется обучать модель несколько сотен эпох. Однако в целях экономии вашего времени и сил, во всех экспериментах мы ограничимся 20 эпохами."
   ]
  },
  {
   "cell_type": "code",
   "execution_count": 15,
   "metadata": {
    "id": "MKZBGhuAgMDu",
    "pycharm": {
     "name": "#%%\n"
    },
    "scrolled": true
   },
   "outputs": [
    {
     "name": "stdout",
     "output_type": "stream",
     "text": [
      "Epoch 0\n",
      " train loss: 1.460950066119269, train acc: 0.47574840047459716\n",
      " val loss: 1.3754220561778292, val acc: 0.5276595744680851\n",
      "\n",
      "Epoch 1\n",
      " train loss: 1.1772998430829162, train acc: 0.5886572865289134\n",
      " val loss: 1.1094977650236577, val acc: 0.6142508865670955\n",
      "\n",
      "Epoch 2\n",
      " train loss: 1.0569205179510865, train acc: 0.6320596109578552\n",
      " val loss: 1.0008299799675637, val acc: 0.6535460994598713\n",
      "\n",
      "Epoch 3\n",
      " train loss: 0.9922375932907928, train acc: 0.6554909898768395\n",
      " val loss: 1.011911153793335, val acc: 0.6514849292471053\n",
      "\n",
      "Epoch 4\n",
      " train loss: 0.9608208328975838, train acc: 0.6676963633113631\n",
      " val loss: 1.0297930514558833, val acc: 0.6372783688788718\n",
      "\n",
      "Epoch 5\n",
      " train loss: 0.9256039445971223, train acc: 0.67773488518089\n",
      " val loss: 0.9603690890555686, val acc: 0.671343085106383\n",
      "\n",
      "Epoch 6\n",
      " train loss: 0.9043119536675308, train acc: 0.6869531862260655\n",
      " val loss: 0.9337669040294404, val acc: 0.6780806739279565\n",
      "\n",
      "Epoch 7\n",
      " train loss: 0.8886789578733322, train acc: 0.6934333377172132\n",
      " val loss: 0.9444255889730251, val acc: 0.6735150710065314\n",
      "\n",
      "Epoch 8\n",
      " train loss: 0.8776733221475995, train acc: 0.6931721729377942\n",
      " val loss: 0.9331841085819488, val acc: 0.6871010638297872\n",
      "\n",
      "Epoch 9\n",
      " train loss: 0.8583450753248588, train acc: 0.7027863019999028\n",
      " val loss: 0.9715489910003987, val acc: 0.662876773134191\n",
      "\n",
      "Epoch 10\n",
      " train loss: 0.8396758507984866, train acc: 0.7087482045076011\n",
      " val loss: 0.9295193448979804, val acc: 0.6813386526513607\n",
      "\n",
      "Epoch 11\n",
      " train loss: 0.8260668821809932, train acc: 0.7139102899396224\n",
      " val loss: 0.8809213874187876, val acc: 0.6990913122258288\n",
      "\n",
      "Epoch 12\n",
      " train loss: 0.8226495032118705, train acc: 0.7143795704928787\n",
      " val loss: 0.9301112377897222, val acc: 0.6871897164811479\n",
      "\n",
      "Epoch 13\n",
      " train loss: 0.8035117024913349, train acc: 0.720133357335706\n",
      " val loss: 0.934629033474212, val acc: 0.6804742909492331\n",
      "\n",
      "Epoch 14\n",
      " train loss: 0.7972140655983955, train acc: 0.7197864978579324\n",
      " val loss: 0.9075390111892782, val acc: 0.6902482271194458\n",
      "\n",
      "Epoch 15\n",
      " train loss: 0.7857734262943268, train acc: 0.7279887046848834\n",
      " val loss: 0.8595847689090891, val acc: 0.7050088654173181\n",
      "\n",
      "Epoch 16\n",
      " train loss: 0.7819120949866349, train acc: 0.7280580765368516\n",
      " val loss: 0.8936843154278208, val acc: 0.6950576241980208\n",
      "\n",
      "Epoch 17\n",
      " train loss: 0.7714834845807043, train acc: 0.7308900823758768\n",
      " val loss: 0.8748194334354806, val acc: 0.7041445037151904\n",
      "\n",
      "Epoch 18\n",
      " train loss: 0.759327301105154, train acc: 0.7353829329584809\n",
      " val loss: 0.8687867110079908, val acc: 0.7074911348363186\n",
      "\n",
      "Epoch 19\n",
      " train loss: 0.7559422964478759, train acc: 0.7370560198640911\n",
      " val loss: 0.8698289078600863, val acc: 0.7042109930768926\n",
      "\n"
     ]
    }
   ],
   "source": [
    "optimizer = optim.SGD(net.parameters(), lr=0.1, momentum=0.9)\n",
    "train_loss_log, train_acc_log, val_loss_log, val_acc_log = train(net, optimizer, 20, train_loader, val_loader)"
   ]
  },
  {
   "cell_type": "markdown",
   "metadata": {
    "id": "gUb1jQW8O9Dt",
    "pycharm": {
     "name": "#%% md\n"
    }
   },
   "source": [
    "Посчитайте точность на тестовой выборке:"
   ]
  },
  {
   "cell_type": "code",
   "execution_count": 16,
   "metadata": {
    "id": "Jyuc55B9_Amc",
    "pycharm": {
     "name": "#%%\n"
    }
   },
   "outputs": [
    {
     "name": "stdout",
     "output_type": "stream",
     "text": [
      "test_loss: 0.8735849439718162\n",
      "test_acc: 0.7002388535031847\n"
     ]
    }
   ],
   "source": [
    "test_loss, test_acc = test(net, test_loader)\n",
    "print(f\"test_loss: {test_loss}\")\n",
    "print(f\"test_acc: {test_acc}\")"
   ]
  },
  {
   "cell_type": "markdown",
   "metadata": {
    "id": "zM38Q9fwO9Dt",
    "pycharm": {
     "name": "#%% md\n"
    }
   },
   "source": [
    "Если вы все сделали правильно, у вас должна была получиться точность $\\ge 67\\%$."
   ]
  },
  {
   "cell_type": "markdown",
   "metadata": {
    "id": "DHFNSKcoO9Dt",
    "pycharm": {
     "name": "#%% md\n"
    }
   },
   "source": [
    "**Задание 2.2 (1 балл).** Постройте графики зависимости функции потерь и точности классификации от номера шага оптимизатора. На каждом графике расположите данные и для обучающей и для валидационной выборки, итого у вас должно получиться два графика. Обратите внимание, что на обучающей выборке эти данные считаются по каждому батчу, на валидационной же они считаются по всей выборке раз в эпоху."
   ]
  },
  {
   "cell_type": "code",
   "execution_count": 17,
   "metadata": {
    "id": "LzIP0tGLO9Dt",
    "pycharm": {
     "name": "#%%\n"
    }
   },
   "outputs": [],
   "source": [
    "import seaborn as sns\n",
    "\n",
    "batch_size = 64\n",
    "sns.set(rc={\"figure.figsize\": (11.7, 8.27)})"
   ]
  },
  {
   "cell_type": "code",
   "execution_count": 18,
   "metadata": {},
   "outputs": [],
   "source": [
    "def plot_metrics(metric_train, metric_val, name=\"loss\"):\n",
    "    norm_metric_val = {}\n",
    "\n",
    "    batch_num = len(metric_train) // len(metric_val)\n",
    "\n",
    "    for i in range(len(metric_val)):\n",
    "        norm_metric_val[i * batch_num] = metric_val[i]\n",
    "    data = {\"train\": metric_train, \"val\": norm_metric_val}\n",
    "    ax = sns.relplot(data=data, kind=\"line\")\n",
    "    ax.set(xlabel=\"step\", ylabel=name)\n",
    "    plt.show()"
   ]
  },
  {
   "cell_type": "code",
   "execution_count": 19,
   "metadata": {},
   "outputs": [
    {
     "name": "stderr",
     "output_type": "stream",
     "text": [
      "c:\\Python310\\lib\\site-packages\\seaborn\\axisgrid.py:123: UserWarning: The figure layout has changed to tight\n",
      "  self._figure.tight_layout(*args, **kwargs)\n"
     ]
    },
    {
     "data": {
      "image/png": "[encoded data removed]",
      "text/plain": [
       "<Figure size 584.625x500 with 1 Axes>"
      ]
     },
     "metadata": {},
     "output_type": "display_data"
    }
   ],
   "source": [
    "# plot for loss\n",
    "\n",
    "plot_metrics(train_loss_log, val_loss_log, name=\"loss\")"
   ]
  },
  {
   "cell_type": "code",
   "execution_count": 20,
   "metadata": {},
   "outputs": [
    {
     "name": "stderr",
     "output_type": "stream",
     "text": [
      "c:\\Python310\\lib\\site-packages\\seaborn\\axisgrid.py:123: UserWarning: The figure layout has changed to tight\n",
      "  self._figure.tight_layout(*args, **kwargs)\n"
     ]
    },
    {
     "data": {
      "image/png": "[encoded data removed]",
      "text/plain": [
       "<Figure size 584.625x500 with 1 Axes>"
      ]
     },
     "metadata": {},
     "output_type": "display_data"
    }
   ],
   "source": [
    "# plot for accuracy\n",
    "\n",
    "plot_metrics(train_acc_log, val_acc_log, name=\"accuracy\")"
   ]
  },
  {
   "cell_type": "markdown",
   "metadata": {
    "id": "_ttOJPj-O9Dt",
    "pycharm": {
     "name": "#%% md\n"
    }
   },
   "source": [
    "## 3. Расписание длины шага (2 балла)"
   ]
  },
  {
   "cell_type": "markdown",
   "metadata": {
    "id": "qiz3JstuO9Dt",
    "pycharm": {
     "name": "#%% md\n"
    }
   },
   "source": [
    "С курса \"Машинное обучение 1\" вы уже должны знать, что сходимость стохастического градиентного спуска мы можем теоретически гарантировать только если будем определенным образом со временем уменьшать длину шага. На практике при обучении нейронных сетей такая техника оказывается очень полезной, однако теоретически обоснованными способами уменьшения длины шага фантазия не ограничивается.\n",
    "\n",
    "Одним из простейших способов является кусочно постоянная функция: на нескольких фиксированных эпохах уменьшаем длину шага в константу раз."
   ]
  },
  {
   "cell_type": "code",
   "execution_count": 21,
   "metadata": {
    "id": "V2Z0OT3nO9Du",
    "pycharm": {
     "name": "#%%\n"
    }
   },
   "outputs": [
    {
     "name": "stdout",
     "output_type": "stream",
     "text": [
      "Epoch 0\n",
      " train loss: 1.4885493914649517, train acc: 0.46804403899138763\n",
      " val loss: 1.2994044192293857, val acc: 0.5511746454746165\n",
      "\n",
      "Epoch 1\n",
      " train loss: 1.1868853089578408, train acc: 0.5846663619744058\n",
      " val loss: 1.156814277932999, val acc: 0.6001329787234042\n",
      "\n",
      "Epoch 2\n",
      " train loss: 1.0653181692799876, train acc: 0.6316637830498886\n",
      " val loss: 1.0527370977909007, val acc: 0.6391400710065314\n",
      "\n",
      "Epoch 3\n",
      " train loss: 1.0091725584575855, train acc: 0.6492679224807558\n",
      " val loss: 1.0062110974433573, val acc: 0.6487367021276595\n",
      "\n",
      "Epoch 4\n",
      " train loss: 0.970892455721686, train acc: 0.6611264364375057\n",
      " val loss: 0.9920483941727496, val acc: 0.6623670212765957\n",
      "\n",
      "Epoch 5\n",
      " train loss: 0.9518525693054827, train acc: 0.6693449661108432\n",
      " val loss: 0.9981845860785626, val acc: 0.6563829787234042\n",
      "\n",
      "Epoch 6\n",
      " train loss: 0.9184920587313022, train acc: 0.6794283756172417\n",
      " val loss: 0.9773820504229119, val acc: 0.6606382978723404\n",
      "\n",
      "Epoch 7\n",
      " train loss: 0.901031371607859, train acc: 0.6855249412534877\n",
      " val loss: 0.986325347930827, val acc: 0.6564716313747649\n",
      "\n",
      "Epoch 8\n",
      " train loss: 0.8791226902653138, train acc: 0.6932619483205039\n",
      " val loss: 0.929545018520761, val acc: 0.6785682624958931\n",
      "\n",
      "Epoch 9\n",
      " train loss: 0.8702333835404795, train acc: 0.6979506725149137\n",
      " val loss: 0.9785273067494656, val acc: 0.6693484042553192\n",
      "\n",
      "Epoch 10\n",
      " train loss: 0.7598121404320928, train acc: 0.7371213111406706\n",
      " val loss: 0.8406468823869178, val acc: 0.7089539007937654\n",
      "\n",
      "Epoch 11\n",
      " train loss: 0.7385000821332391, train acc: 0.7423894946928216\n",
      " val loss: 0.8354942664187005, val acc: 0.7130319148936171\n",
      "\n",
      "Epoch 12\n",
      " train loss: 0.733314058680421, train acc: 0.7459152194873943\n",
      " val loss: 0.8336663350145868, val acc: 0.7152260638297873\n",
      "\n",
      "Epoch 13\n",
      " train loss: 0.7285847821880738, train acc: 0.7463436929791676\n",
      " val loss: 0.8388606299745276, val acc: 0.7093085106382979\n",
      "\n",
      "Epoch 14\n",
      " train loss: 0.7244863810879221, train acc: 0.751060982073029\n",
      " val loss: 0.8355235312847381, val acc: 0.7122340425531914\n",
      "\n",
      "Epoch 15\n",
      " train loss: 0.7077387906951486, train acc: 0.7551824889627627\n",
      " val loss: 0.8253166782095077, val acc: 0.7157579787234043\n",
      "\n",
      "Epoch 16\n",
      " train loss: 0.7066227776258911, train acc: 0.7564801514911478\n",
      " val loss: 0.821936175163756, val acc: 0.7162234042553192\n",
      "\n",
      "Epoch 17\n",
      " train loss: 0.7042103419029299, train acc: 0.7553212327756655\n",
      " val loss: 0.82229950351918, val acc: 0.7174867021276595\n",
      "\n",
      "Epoch 18\n",
      " train loss: 0.703657452813886, train acc: 0.7551988118091493\n",
      " val loss: 0.8216670779471702, val acc: 0.7172207446808511\n",
      "\n",
      "Epoch 19\n",
      " train loss: 0.7026540995515896, train acc: 0.7569371898823726\n",
      " val loss: 0.8222923768327591, val acc: 0.7176861702127659\n",
      "\n"
     ]
    }
   ],
   "source": [
    "net = BasicBlockNet().to(device)\n",
    "optimizer = optim.SGD(net.parameters(), lr=0.1, momentum=0.9)\n",
    "scheduler = optim.lr_scheduler.MultiStepLR(optimizer, milestones=[10, 15], gamma=0.1)\n",
    "tr_loss_log, tr_acc_log, val_loss_log, val_acc_log = train(net, optimizer, 20, train_loader, val_loader, scheduler)"
   ]
  },
  {
   "cell_type": "markdown",
   "metadata": {
    "id": "5Xc76KvzO9Du",
    "pycharm": {
     "name": "#%% md\n"
    }
   },
   "source": [
    "Посчитайте точность на тестовой выборке:"
   ]
  },
  {
   "cell_type": "code",
   "execution_count": 22,
   "metadata": {
    "id": "1AjiYhKqO9Du",
    "pycharm": {
     "name": "#%%\n"
    }
   },
   "outputs": [
    {
     "name": "stdout",
     "output_type": "stream",
     "text": [
      "test_loss: 0.8307504801993157\n",
      "test_acc: 0.7154657643312102\n"
     ]
    }
   ],
   "source": [
    "test_loss, test_acc = test(net, test_loader)\n",
    "print(f\"test_loss: {test_loss}\")\n",
    "print(f\"test_acc: {test_acc}\")"
   ]
  },
  {
   "cell_type": "markdown",
   "metadata": {
    "id": "yE0dgLYrO9Du",
    "pycharm": {
     "name": "#%% md\n"
    }
   },
   "source": [
    "**Задание 3.0 (0.5 баллов).** Здесь может возникнуть вопрос: а что будет, если мы не будем уменьшать длину шага в процессе обучения, а сразу возьмем констатную, равную значению нашей кусочно-постоянной функции на последних эпохах, то есть $0.001$ в нашем случае. Запустите обучение и проверьте, что в таком случае мы получим худшее качество на тестовой выборке."
   ]
  },
  {
   "cell_type": "code",
   "execution_count": 23,
   "metadata": {
    "id": "qZ2iB-LBO9Du",
    "pycharm": {
     "name": "#%%\n"
    }
   },
   "outputs": [
    {
     "name": "stdout",
     "output_type": "stream",
     "text": [
      "Epoch 0\n",
      " train loss: 1.8259516991470588, train acc: 0.35899549493841976\n",
      " val loss: 1.6196006313283393, val acc: 0.4352393617021277\n",
      "\n",
      "Epoch 1\n",
      " train loss: 1.5516887513113633, train acc: 0.45515310786106034\n",
      " val loss: 1.461859399207095, val acc: 0.4877659574468085\n",
      "\n",
      "Epoch 2\n",
      " train loss: 1.4281034700613353, train acc: 0.49673952077816785\n",
      " val loss: 1.371269231654228, val acc: 0.5147163120990104\n",
      "\n",
      "Epoch 3\n",
      " train loss: 1.3440646900773265, train acc: 0.5274304649511683\n",
      " val loss: 1.2991470263359395, val acc: 0.5436835106382979\n",
      "\n",
      "Epoch 4\n",
      " train loss: 1.2854151113377628, train acc: 0.5490336903052531\n",
      " val loss: 1.260549711420181, val acc: 0.5584663120990104\n",
      "\n",
      "Epoch 5\n",
      " train loss: 1.2441959344054925, train acc: 0.5636629995088037\n",
      " val loss: 1.2188768034285686, val acc: 0.5711657801841168\n",
      "\n",
      "Epoch 6\n",
      " train loss: 1.2047095229028566, train acc: 0.5775047336897423\n",
      " val loss: 1.2124998229615231, val acc: 0.5701684397585849\n",
      "\n",
      "Epoch 7\n",
      " train loss: 1.1757727187991796, train acc: 0.5894285388141053\n",
      " val loss: 1.1742450777520526, val acc: 0.5849290780564572\n",
      "\n",
      "Epoch 8\n",
      " train loss: 1.14817275785223, train acc: 0.5958393184532849\n",
      " val loss: 1.1633353291673862, val acc: 0.590469858240574\n",
      "\n",
      "Epoch 9\n",
      " train loss: 1.1269271883711736, train acc: 0.6082242426532278\n",
      " val loss: 1.1214717996881363, val acc: 0.6097739361702128\n",
      "\n",
      "Epoch 10\n",
      " train loss: 1.0993195464885648, train acc: 0.6171038456983061\n",
      " val loss: 1.0858364295452199, val acc: 0.6212765957446809\n",
      "\n",
      "Epoch 11\n",
      " train loss: 1.0819150263910102, train acc: 0.6225964677617144\n",
      " val loss: 1.1092134648181022, val acc: 0.608266844013904\n",
      "\n",
      "Epoch 12\n",
      " train loss: 1.063260961603203, train acc: 0.6291337490517653\n",
      " val loss: 1.0470845435528044, val acc: 0.6333776595744681\n",
      "\n",
      "Epoch 13\n",
      " train loss: 1.0439402378237443, train acc: 0.6349405850091407\n",
      " val loss: 1.0559326250502403, val acc: 0.6303191489361702\n",
      "\n",
      "Epoch 14\n",
      " train loss: 1.0315852230602034, train acc: 0.6419430661680929\n",
      " val loss: 1.073368670078034, val acc: 0.6234485816448293\n",
      "\n",
      "Epoch 15\n",
      " train loss: 1.0129312341130412, train acc: 0.6468684709268253\n",
      " val loss: 1.0116298465018576, val acc: 0.6491578015875309\n",
      "\n",
      "Epoch 16\n",
      " train loss: 0.9983199431647766, train acc: 0.6517122617805244\n",
      " val loss: 1.031454741193893, val acc: 0.6373005319148937\n",
      "\n",
      "Epoch 17\n",
      " train loss: 0.9861524520234173, train acc: 0.6580047010285763\n",
      " val loss: 0.9992207095978108, val acc: 0.6508421986661059\n",
      "\n",
      "Epoch 18\n",
      " train loss: 0.9711495512582267, train acc: 0.663917635215048\n",
      " val loss: 0.9813607685109402, val acc: 0.6576019505237011\n",
      "\n",
      "Epoch 19\n",
      " train loss: 0.9520736405356929, train acc: 0.6701692675105833\n",
      " val loss: 0.9700143484359092, val acc: 0.6608820922831271\n",
      "\n"
     ]
    }
   ],
   "source": [
    "net = BasicBlockNet().to(device)\n",
    "optimizer = optim.SGD(net.parameters(), lr=0.001, momentum=0.9)\n",
    "tr_loss_log, tr_acc_log, val_loss_log, val_acc_log = train(\n",
    "    net, optimizer, 20, train_loader, val_loader\n",
    ")"
   ]
  },
  {
   "cell_type": "code",
   "execution_count": 24,
   "metadata": {},
   "outputs": [
    {
     "name": "stdout",
     "output_type": "stream",
     "text": [
      "test_loss: 0.972043947429414\n",
      "test_acc: 0.6652070063694268\n"
     ]
    }
   ],
   "source": [
    "test_loss, test_acc = test(net, test_loader)\n",
    "print(f\"test_loss: {test_loss}\")\n",
    "print(f\"test_acc: {test_acc}\")"
   ]
  },
  {
   "cell_type": "markdown",
   "metadata": {
    "id": "xVotU378O9Du",
    "pycharm": {
     "name": "#%% md\n"
    }
   },
   "source": [
    "**Задание 3.1 (1.5 балла).** Изучите, какие еще способы уменьшения длины шага представлены в <code>torch.optim.lr_scheduler</code>. Выберите несколько из них, объясните, как они устроены, и обучите модель с ними. Удалось ли добиться улучшения качества на тестовой выборке?"
   ]
  },
  {
   "cell_type": "code",
   "execution_count": null,
   "metadata": {
    "id": "nkGlzocOO9Du",
    "pycharm": {
     "name": "#%%\n"
    }
   },
   "outputs": [],
   "source": [
    "from torch.optim.lr_scheduler import CosineAnnealingLR, CyclicLR, ExponentialLR"
   ]
  },
  {
   "cell_type": "markdown",
   "metadata": {
    "id": "5a_zMNNVO9Du",
    "pycharm": {
     "name": "#%% md\n"
    }
   },
   "source": [
    "Your answers here:"
   ]
  },
  {
   "cell_type": "markdown",
   "metadata": {
    "id": "7xFXgl_3_E--",
    "pycharm": {
     "name": "#%% md\n"
    }
   },
   "source": [
    "## 4. Аугментации данных (2 балла)"
   ]
  },
  {
   "cell_type": "markdown",
   "metadata": {
    "id": "5G0Easo9O9Du",
    "pycharm": {
     "name": "#%% md\n"
    }
   },
   "source": [
    "Еще одной стандартной техникой, применяющейся в глубинном обучении, а особенно часто в компьютерном зрении, являются аугментации данных. Суть аугментаций состоит в том, что мы можем некоторым синтетическим образом видоизменять объекты обучающей выборки, тем самым расширяя ее, а также делая итоговую модель более устойчивой к таким изменениям.\n",
    "\n",
    "Простейшая аугментация, которую можно применить к картинкам — разворот картинки по горизонтальной оси. То есть при обучении модели с вероятностью $0.5$ мы будем разворачивать картинку из обучающей выборки."
   ]
  },
  {
   "cell_type": "code",
   "execution_count": null,
   "metadata": {
    "id": "SzeFpgtfO9Du",
    "pycharm": {
     "name": "#%%\n"
    }
   },
   "outputs": [],
   "source": [
    "dataiter = iter(train_loader)\n",
    "images, labels = dataiter.next()\n",
    "\n",
    "imshow(torchvision.utils.make_grid(images[:4]))\n",
    "\n",
    "imshow(torchvision.utils.make_grid(transforms.functional.hflip(images[:4])))"
   ]
  },
  {
   "cell_type": "markdown",
   "metadata": {
    "id": "BR4a-XJQO9Du",
    "pycharm": {
     "name": "#%% md\n"
    }
   },
   "source": [
    "Наиболее удобным способом работы с аугментациями в PyTorch является их задание в списке <code>transforms</code>, который затем передается в загрузчик данных. Обучим нашу сеть, применяя горизонтальные повороты:"
   ]
  },
  {
   "cell_type": "code",
   "execution_count": null,
   "metadata": {
    "id": "na0ScBf-_AqX",
    "pycharm": {
     "name": "#%%\n"
    },
    "scrolled": true
   },
   "outputs": [],
   "source": [
    "transform = transforms.Compose(\n",
    "        [transforms.RandomHorizontalFlip(),\n",
    "         transforms.ToTensor(),\n",
    "         transforms.Normalize((0.5, 0.5, 0.5), (0.5, 0.5, 0.5))]\n",
    ")\n",
    "\n",
    "train_loader, val_loader, test_loader = get_cifar10_data(batch_size=64, transform_train=transform)\n",
    "\n",
    "net = BasicBlockNet().to(device)\n",
    "optimizer = optim.SGD(net.parameters(), lr=0.1, momentum=0.9)\n",
    "scheduler = optim.lr_scheduler.MultiStepLR(optimizer, milestones=[10, 15], gamma=0.1)\n",
    "tr_loss_log, tr_acc_log, val_loss_log, val_acc_log = train(net, optimizer, 20, train_loader, val_loader, scheduler)"
   ]
  },
  {
   "cell_type": "markdown",
   "metadata": {
    "id": "v3ZIqDQqO9Dv",
    "pycharm": {
     "name": "#%% md\n"
    }
   },
   "source": [
    "Посчитайте точность на тестовой выборке:"
   ]
  },
  {
   "cell_type": "code",
   "execution_count": null,
   "metadata": {
    "id": "nNJizMkM_Auh",
    "pycharm": {
     "name": "#%%\n"
    }
   },
   "outputs": [],
   "source": [
    "# <your code here>"
   ]
  },
  {
   "cell_type": "markdown",
   "metadata": {
    "id": "KndehSCHO9Dv",
    "pycharm": {
     "name": "#%% md\n"
    }
   },
   "source": [
    "**Задание 4.1 (2 балла).** Изучите, какие еще способы аугментаций изображений представлены в <code>torchvision.transforms</code>. Выберите несколько из них, объясните, как они устроены, и обучите модель с ними (по отдельности и вместе). Удалось ли добиться улучшения качества на тестовой выборке?"
   ]
  },
  {
   "cell_type": "code",
   "execution_count": null,
   "metadata": {
    "id": "Np4rgvdZ_QRF",
    "pycharm": {
     "name": "#%%\n"
    }
   },
   "outputs": [],
   "source": [
    "# <your code here>"
   ]
  },
  {
   "cell_type": "markdown",
   "metadata": {
    "id": "4K-MptLiO9Dv",
    "pycharm": {
     "name": "#%% md\n"
    }
   },
   "source": [
    "Your answers here:"
   ]
  },
  {
   "cell_type": "markdown",
   "metadata": {
    "id": "HCENjLw5O9Dv",
    "pycharm": {
     "name": "#%% md\n"
    }
   },
   "source": [
    "## Бонус. Логирование в wandb (2 балла)"
   ]
  },
  {
   "cell_type": "markdown",
   "metadata": {
    "id": "xOyzc1mnO9Dv",
    "pycharm": {
     "name": "#%% md\n"
    }
   },
   "source": [
    "На практике специалиста по глубинному обучению часто встречаются ситуации, когда нейросеть учится на каком-то удаленном сервере. И обычно вам хочется отслеживать прогресс обучения, особенно когда время обучения модели исчисляется днями или неделями. Для таких целей существует несколько инструментов. Вероятно, самый популярный из них — [wandb](https://wandb.ai/site).\n",
    "\n",
    "Ваша задача состоит в том, чтобы разобраться как им пользоваться, и повторить задания 2.1 и 2.2 с его использованием. Обучение вы можете запускать в этом же ноутбуке, но теперь вам необходимо через wandb логировать значения функции потерь и точности на обучающей выборке и на валидационной. Результатом работы должны быть ваш код и публичная ссылка на страничку с графиками, идентичными графикам в задании 2.2."
   ]
  },
  {
   "cell_type": "code",
   "execution_count": null,
   "metadata": {
    "id": "m5gSTLAr_QS4",
    "pycharm": {
     "name": "#%%\n"
    }
   },
   "outputs": [],
   "source": [
    "# <your code here>"
   ]
  }
 ],
 "metadata": {
  "accelerator": "GPU",
  "colab": {
   "collapsed_sections": [],
   "provenance": []
  },
  "kernelspec": {
   "display_name": "Python 3 (ipykernel)",
   "language": "python",
   "name": "python3"
  },
  "language_info": {
   "codemirror_mode": {
    "name": "ipython",
    "version": 3
   },
   "file_extension": ".py",
   "mimetype": "text/x-python",
   "name": "python",
   "nbconvert_exporter": "python",
   "pygments_lexer": "ipython3",
   "version": "3.10.7"
  },
  "widgets": {
   "application/vnd.jupyter.widget-state+json": {
    "0fee9f5b7bdb4129a71ef0cfe9d3b1fa": {
     "model_module": "@jupyter-widgets/controls",
     "model_module_version": "1.5.0",
     "model_name": "ProgressStyleModel",
     "state": {
      "_model_module": "@jupyter-widgets/controls",
      "_model_module_version": "1.5.0",
      "_model_name": "ProgressStyleModel",
      "_view_count": null,
      "_view_module": "@jupyter-widgets/base",
      "_view_module_version": "1.2.0",
      "_view_name": "StyleView",
      "bar_color": null,
      "description_width": ""
     }
    },
    "17b2be81159e41f1a5c6bb966516572e": {
     "model_module": "@jupyter-widgets/base",
     "model_module_version": "1.2.0",
     "model_name": "LayoutModel",
     "state": {
      "_model_module": "@jupyter-widgets/base",
      "_model_module_version": "1.2.0",
      "_model_name": "LayoutModel",
      "_view_count": null,
      "_view_module": "@jupyter-widgets/base",
      "_view_module_version": "1.2.0",
      "_view_name": "LayoutView",
      "align_content": null,
      "align_items": null,
      "align_self": null,
      "border": null,
      "bottom": null,
      "display": null,
      "flex": null,
      "flex_flow": null,
      "grid_area": null,
      "grid_auto_columns": null,
      "grid_auto_flow": null,
      "grid_auto_rows": null,
      "grid_column": null,
      "grid_gap": null,
      "grid_row": null,
      "grid_template_areas": null,
      "grid_template_columns": null,
      "grid_template_rows": null,
      "height": null,
      "justify_content": null,
      "justify_items": null,
      "left": null,
      "margin": null,
      "max_height": null,
      "max_width": null,
      "min_height": null,
      "min_width": null,
      "object_fit": null,
      "object_position": null,
      "order": null,
      "overflow": null,
      "overflow_x": null,
      "overflow_y": null,
      "padding": null,
      "right": null,
      "top": null,
      "visibility": null,
      "width": null
     }
    },
    "18b20091dbf64b129824a8fb3266e3c0": {
     "model_module": "@jupyter-widgets/controls",
     "model_module_version": "1.5.0",
     "model_name": "DescriptionStyleModel",
     "state": {
      "_model_module": "@jupyter-widgets/controls",
      "_model_module_version": "1.5.0",
      "_model_name": "DescriptionStyleModel",
      "_view_count": null,
      "_view_module": "@jupyter-widgets/base",
      "_view_module_version": "1.2.0",
      "_view_name": "StyleView",
      "description_width": ""
     }
    },
    "22bb21a6c57a413fb7374efe31349e6e": {
     "model_module": "@jupyter-widgets/base",
     "model_module_version": "1.2.0",
     "model_name": "LayoutModel",
     "state": {
      "_model_module": "@jupyter-widgets/base",
      "_model_module_version": "1.2.0",
      "_model_name": "LayoutModel",
      "_view_count": null,
      "_view_module": "@jupyter-widgets/base",
      "_view_module_version": "1.2.0",
      "_view_name": "LayoutView",
      "align_content": null,
      "align_items": null,
      "align_self": null,
      "border": null,
      "bottom": null,
      "display": null,
      "flex": null,
      "flex_flow": null,
      "grid_area": null,
      "grid_auto_columns": null,
      "grid_auto_flow": null,
      "grid_auto_rows": null,
      "grid_column": null,
      "grid_gap": null,
      "grid_row": null,
      "grid_template_areas": null,
      "grid_template_columns": null,
      "grid_template_rows": null,
      "height": null,
      "justify_content": null,
      "justify_items": null,
      "left": null,
      "margin": null,
      "max_height": null,
      "max_width": null,
      "min_height": null,
      "min_width": null,
      "object_fit": null,
      "object_position": null,
      "order": null,
      "overflow": null,
      "overflow_x": null,
      "overflow_y": null,
      "padding": null,
      "right": null,
      "top": null,
      "visibility": null,
      "width": null
     }
    },
    "7d238166caf64537ad9aa2040dcdc1ec": {
     "model_module": "@jupyter-widgets/controls",
     "model_module_version": "1.5.0",
     "model_name": "DescriptionStyleModel",
     "state": {
      "_model_module": "@jupyter-widgets/controls",
      "_model_module_version": "1.5.0",
      "_model_name": "DescriptionStyleModel",
      "_view_count": null,
      "_view_module": "@jupyter-widgets/base",
      "_view_module_version": "1.2.0",
      "_view_name": "StyleView",
      "description_width": ""
     }
    },
    "95c5696493db48738dbdc9940acec1d8": {
     "model_module": "@jupyter-widgets/controls",
     "model_module_version": "1.5.0",
     "model_name": "HTMLModel",
     "state": {
      "_dom_classes": [],
      "_model_module": "@jupyter-widgets/controls",
      "_model_module_version": "1.5.0",
      "_model_name": "HTMLModel",
      "_view_count": null,
      "_view_module": "@jupyter-widgets/controls",
      "_view_module_version": "1.5.0",
      "_view_name": "HTMLView",
      "description": "",
      "description_tooltip": null,
      "layout": "IPY_MODEL_22bb21a6c57a413fb7374efe31349e6e",
      "placeholder": "​",
      "style": "IPY_MODEL_18b20091dbf64b129824a8fb3266e3c0",
      "value": "100%"
     }
    },
    "9bad0d6a00c14229b0d776a2cfe15090": {
     "model_module": "@jupyter-widgets/base",
     "model_module_version": "1.2.0",
     "model_name": "LayoutModel",
     "state": {
      "_model_module": "@jupyter-widgets/base",
      "_model_module_version": "1.2.0",
      "_model_name": "LayoutModel",
      "_view_count": null,
      "_view_module": "@jupyter-widgets/base",
      "_view_module_version": "1.2.0",
      "_view_name": "LayoutView",
      "align_content": null,
      "align_items": null,
      "align_self": null,
      "border": null,
      "bottom": null,
      "display": null,
      "flex": null,
      "flex_flow": null,
      "grid_area": null,
      "grid_auto_columns": null,
      "grid_auto_flow": null,
      "grid_auto_rows": null,
      "grid_column": null,
      "grid_gap": null,
      "grid_row": null,
      "grid_template_areas": null,
      "grid_template_columns": null,
      "grid_template_rows": null,
      "height": null,
      "justify_content": null,
      "justify_items": null,
      "left": null,
      "margin": null,
      "max_height": null,
      "max_width": null,
      "min_height": null,
      "min_width": null,
      "object_fit": null,
      "object_position": null,
      "order": null,
      "overflow": null,
      "overflow_x": null,
      "overflow_y": null,
      "padding": null,
      "right": null,
      "top": null,
      "visibility": null,
      "width": null
     }
    },
    "aa9da821ba0c42b5b051355e50e691f0": {
     "model_module": "@jupyter-widgets/controls",
     "model_module_version": "1.5.0",
     "model_name": "HBoxModel",
     "state": {
      "_dom_classes": [],
      "_model_module": "@jupyter-widgets/controls",
      "_model_module_version": "1.5.0",
      "_model_name": "HBoxModel",
      "_view_count": null,
      "_view_module": "@jupyter-widgets/controls",
      "_view_module_version": "1.5.0",
      "_view_name": "HBoxView",
      "box_style": "",
      "children": [
       "IPY_MODEL_95c5696493db48738dbdc9940acec1d8",
       "IPY_MODEL_fe515a1f743f49d0b251b43919d52a8e",
       "IPY_MODEL_f4f339c969fd4e21bc683ecb2567897b"
      ],
      "layout": "IPY_MODEL_17b2be81159e41f1a5c6bb966516572e"
     }
    },
    "cd991379661b4b4ab405bf66f75c6834": {
     "model_module": "@jupyter-widgets/base",
     "model_module_version": "1.2.0",
     "model_name": "LayoutModel",
     "state": {
      "_model_module": "@jupyter-widgets/base",
      "_model_module_version": "1.2.0",
      "_model_name": "LayoutModel",
      "_view_count": null,
      "_view_module": "@jupyter-widgets/base",
      "_view_module_version": "1.2.0",
      "_view_name": "LayoutView",
      "align_content": null,
      "align_items": null,
      "align_self": null,
      "border": null,
      "bottom": null,
      "display": null,
      "flex": null,
      "flex_flow": null,
      "grid_area": null,
      "grid_auto_columns": null,
      "grid_auto_flow": null,
      "grid_auto_rows": null,
      "grid_column": null,
      "grid_gap": null,
      "grid_row": null,
      "grid_template_areas": null,
      "grid_template_columns": null,
      "grid_template_rows": null,
      "height": null,
      "justify_content": null,
      "justify_items": null,
      "left": null,
      "margin": null,
      "max_height": null,
      "max_width": null,
      "min_height": null,
      "min_width": null,
      "object_fit": null,
      "object_position": null,
      "order": null,
      "overflow": null,
      "overflow_x": null,
      "overflow_y": null,
      "padding": null,
      "right": null,
      "top": null,
      "visibility": null,
      "width": null
     }
    },
    "f4f339c969fd4e21bc683ecb2567897b": {
     "model_module": "@jupyter-widgets/controls",
     "model_module_version": "1.5.0",
     "model_name": "HTMLModel",
     "state": {
      "_dom_classes": [],
      "_model_module": "@jupyter-widgets/controls",
      "_model_module_version": "1.5.0",
      "_model_name": "HTMLModel",
      "_view_count": null,
      "_view_module": "@jupyter-widgets/controls",
      "_view_module_version": "1.5.0",
      "_view_name": "HTMLView",
      "description": "",
      "description_tooltip": null,
      "layout": "IPY_MODEL_cd991379661b4b4ab405bf66f75c6834",
      "placeholder": "​",
      "style": "IPY_MODEL_7d238166caf64537ad9aa2040dcdc1ec",
      "value": " 170498071/170498071 [00:13&lt;00:00, 13339884.37it/s]"
     }
    },
    "fe515a1f743f49d0b251b43919d52a8e": {
     "model_module": "@jupyter-widgets/controls",
     "model_module_version": "1.5.0",
     "model_name": "FloatProgressModel",
     "state": {
      "_dom_classes": [],
      "_model_module": "@jupyter-widgets/controls",
      "_model_module_version": "1.5.0",
      "_model_name": "FloatProgressModel",
      "_view_count": null,
      "_view_module": "@jupyter-widgets/controls",
      "_view_module_version": "1.5.0",
      "_view_name": "ProgressView",
      "bar_style": "success",
      "description": "",
      "description_tooltip": null,
      "layout": "IPY_MODEL_9bad0d6a00c14229b0d776a2cfe15090",
      "max": 170498071,
      "min": 0,
      "orientation": "horizontal",
      "style": "IPY_MODEL_0fee9f5b7bdb4129a71ef0cfe9d3b1fa",
      "value": 170498071
     }
    }
   }
  }
 },
 "nbformat": 4,
 "nbformat_minor": 1
}
